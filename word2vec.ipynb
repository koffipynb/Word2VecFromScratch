{
 "cells": [
  {
   "cell_type": "markdown",
   "metadata": {},
   "source": [
    "Lucas Henneçon"
   ]
  },
  {
   "cell_type": "code",
   "execution_count": 1,
   "metadata": {
    "executionInfo": {
     "elapsed": 20717,
     "status": "ok",
     "timestamp": 1729586827248,
     "user": {
      "displayName": "lucas #",
      "userId": "02174380894134051938"
     },
     "user_tz": -120
    },
    "id": "BXpR1XE6hO0O"
   },
   "outputs": [],
   "source": [
    "%%capture\n",
    "!pip install transformers datasets"
   ]
  },
  {
   "cell_type": "code",
   "execution_count": 2,
   "metadata": {
    "executionInfo": {
     "elapsed": 16750,
     "status": "ok",
     "timestamp": 1729586843994,
     "user": {
      "displayName": "lucas #",
      "userId": "02174380894134051938"
     },
     "user_tz": -120
    },
    "id": "JwKtGkyogSmn"
   },
   "outputs": [],
   "source": [
    "import numpy as np\n",
    "import torch\n",
    "import torch.nn.functional as F\n",
    "import torch.nn as nn\n",
    "import math\n",
    "from torch.utils.data import DataLoader\n",
    "from tabulate import tabulate\n",
    "from datasets import load_dataset\n",
    "\n",
    "from tqdm.notebook import tqdm\n",
    "from transformers import BertTokenizer"
   ]
  },
  {
   "cell_type": "code",
   "execution_count": 3,
   "metadata": {
    "colab": {
     "base_uri": "https://localhost:8080/",
     "height": 312,
     "referenced_widgets": [
      "863aff9f887841ca8439859337747d1e",
      "4401c3a9872e4a2a9341b8b5bb60a8ae",
      "667f58b3ccdc46a1bb517d2566a283a2",
      "4ecfc35fe83a491397940ba3adc747a4",
      "4ba951d4f6d34187b61a9e1625d0ed31",
      "16a8f4bdc9ac455bba42a27f3b1de64e",
      "c3039da886594d569e745b0f7b59d4fa",
      "9e678115032b487ea7496fca877f1e3d",
      "235ee5b96608432cbae497f7a6f95ef3",
      "af4cfa61ecbd4d6695e86d71a7a8deeb",
      "f581e45cec0349bd93769e8fa731b81b",
      "f604ff1b45664108b4d8ef3be67f2aec",
      "424e74af8a7346dc9986e0ce4471cff0",
      "13d0a1d98261466dbd00b93ed6c248a4",
      "fea17853f0684af396d6cec558811a50",
      "65355c76a6a44d36925328569b56f844",
      "426b2b96af1a481f9c1f692db7eddc06",
      "3f95fd48fdd04b04abac11dae2701980",
      "c74bce80495e41c382425436b50c09c0",
      "2d1d7998aa034ea1852132588e9a7189",
      "127d1e99aca94a54a3b798640ed9e493",
      "8fda65cc8a974bfca11c5616ea17be5c",
      "4a6fd1919ef04cfcb60bd5eac25ec10e",
      "2c0669c3b55249f19327c7d0f1ea13fe",
      "74f8f1561222424f86bebb837b80a1b7",
      "32e0e8c0d1e54f2cbd9dcea34d295797",
      "9a9bae9c3d9a472e9ec77b9e8cb8bcd0",
      "fe8bd8b7642d471082212a79fcc344f2",
      "4ad7507bcee6422f93e1fac04280a89d",
      "14df42286acd456dbbd40378cb2711ec",
      "4948e33aca9240eb8035f0020c6a2f76",
      "d95ee9b766284269931f429462b11f76",
      "bebf8adb66344ee384ffdea5ab927b81"
     ]
    },
    "executionInfo": {
     "elapsed": 8640,
     "status": "ok",
     "timestamp": 1729586852623,
     "user": {
      "displayName": "lucas #",
      "userId": "02174380894134051938"
     },
     "user_tz": -120
    },
    "id": "8TdwlJJ1gSmp",
    "outputId": "ef9fdb7e-7adc-44b1-ba75-491b3d3eef81"
   },
   "outputs": [
    {
     "name": "stderr",
     "output_type": "stream",
     "text": [
      "/usr/local/lib/python3.10/dist-packages/huggingface_hub/utils/_token.py:89: UserWarning: \n",
      "The secret `HF_TOKEN` does not exist in your Colab secrets.\n",
      "To authenticate with the Hugging Face Hub, create a token in your settings tab (https://huggingface.co/settings/tokens), set it as secret in your Google Colab and restart your session.\n",
      "You will be able to reuse this secret in all of your notebooks.\n",
      "Please note that authentication is recommended but still optional to access public models or datasets.\n",
      "  warnings.warn(\n"
     ]
    },
    {
     "data": {
      "application/vnd.jupyter.widget-view+json": {
       "model_id": "863aff9f887841ca8439859337747d1e",
       "version_major": 2,
       "version_minor": 0
      },
      "text/plain": [
       "README.md:   0%|          | 0.00/1.22k [00:00<?, ?B/s]"
      ]
     },
     "metadata": {},
     "output_type": "display_data"
    },
    {
     "data": {
      "application/vnd.jupyter.widget-view+json": {
       "model_id": "f604ff1b45664108b4d8ef3be67f2aec",
       "version_major": 2,
       "version_minor": 0
      },
      "text/plain": [
       "IMDB Dataset.csv:   0%|          | 0.00/66.2M [00:00<?, ?B/s]"
      ]
     },
     "metadata": {},
     "output_type": "display_data"
    },
    {
     "data": {
      "application/vnd.jupyter.widget-view+json": {
       "model_id": "4a6fd1919ef04cfcb60bd5eac25ec10e",
       "version_major": 2,
       "version_minor": 0
      },
      "text/plain": [
       "Generating train split:   0%|          | 0/50000 [00:00<?, ? examples/s]"
      ]
     },
     "metadata": {},
     "output_type": "display_data"
    },
    {
     "name": "stdout",
     "output_type": "stream",
     "text": [
      "Dataset({\n",
      "    features: ['review', 'sentiment'],\n",
      "    num_rows: 50000\n",
      "})\n"
     ]
    }
   ],
   "source": [
    "dataset = load_dataset(\"scikit-learn/imdb\", split=\"train\")\n",
    "print(dataset)"
   ]
  },
  {
   "cell_type": "code",
   "execution_count": 4,
   "metadata": {
    "colab": {
     "base_uri": "https://localhost:8080/",
     "height": 201,
     "referenced_widgets": [
      "91ddadd1973f4bc4bf96d2a3c0759f31",
      "2fd6706b402f4e80bb2b66f991540ff4",
      "8fc19e8e1f7543439beacb4ccf38df5d",
      "b26c1a566b3c41748e1bf772ee6244ec",
      "918f0f89ef944a67920379ecc8ddbe87",
      "e7309a71c3c24720a032f2b73ae09125",
      "2adc75e7ebc942be93689eaae40b4bf8",
      "ac8b8cf885d74b358d0e8626ee8f018c",
      "3075ab7da84d47f49e0ed49eab349986",
      "9801ec7b025b496bbbab2a02d157cf28",
      "0c3898640ded4f4b8ed2ecf5a5dde962",
      "1de6994b5e444b7baa76fb569554e526",
      "dd08ca79f4e242ff8c9aaa0a12b5fb02",
      "7ce92e85fc084f32be779fa32472702f",
      "1c9ae535350943e7b3553ae9956d6382",
      "e23c87d8a9034e54bd39f2d61957d400",
      "995ecc602fd545d4946d32c6b9dd1bd0",
      "06e8b0054814460dbe2dc231d285785c",
      "7376f24dd7f3472195ea38d5882fffa8",
      "2cbcdaf717c74ad18153e4f182a6f532",
      "64647477fc25451ab8b27d9e44abdd19",
      "3d1398ee090f4a638cecc8117a82e74c",
      "811f4c8dc36e43fa8aa0c9a32706c5f0",
      "9fc1a24d83aa4e33a44d4cb38cae64b5",
      "86d825933d2f43728c5c916daed69667",
      "4223c4c64f0149a7832b2a998fc7d3e8",
      "9e2e09c7ce5e492ab90044c0d18d1550",
      "e3748ba7945f4898895c73d84c26a06a",
      "5db7c05f160a4743970f657388955efd",
      "2c2b3ba3f10543fca82f64cbb3699f5f",
      "7eeddcee8a9b472db0180de2170ad862",
      "c3e821051b7c491f82f3c9c628d9fff1",
      "2d9008bf95ce43a397c7f56f1146cb89",
      "1f72ab724da9437c884a89f5421b9fbb",
      "c29f455a587d4a0887e4bdd7154a5687",
      "8888a43c04864f0cb54889a8c1d3891b",
      "1a0de841c27241368a3c77920022e1fb",
      "ca3bda0d2e8b47c78f207903f357c6fd",
      "1566b777574b49139d8e6e8662516a0e",
      "a1429e0b2095431bad6a5e65eec8314b",
      "388e617852fa4937a8a0050760e8f4b6",
      "574acdd9dfa6456d9a11f4040534bb59",
      "6c63acfe75e846b1b6ed00e0d9e54005",
      "9b4c8ab8c758423bb94b12d6830b13aa"
     ]
    },
    "executionInfo": {
     "elapsed": 2042,
     "status": "ok",
     "timestamp": 1729586854659,
     "user": {
      "displayName": "lucas #",
      "userId": "02174380894134051938"
     },
     "user_tz": -120
    },
    "id": "2fhCY2FygSmr",
    "outputId": "ec110bdf-adda-4b62-f20c-8e25d5013f62"
   },
   "outputs": [
    {
     "data": {
      "application/vnd.jupyter.widget-view+json": {
       "model_id": "91ddadd1973f4bc4bf96d2a3c0759f31",
       "version_major": 2,
       "version_minor": 0
      },
      "text/plain": [
       "tokenizer_config.json:   0%|          | 0.00/48.0 [00:00<?, ?B/s]"
      ]
     },
     "metadata": {},
     "output_type": "display_data"
    },
    {
     "data": {
      "application/vnd.jupyter.widget-view+json": {
       "model_id": "1de6994b5e444b7baa76fb569554e526",
       "version_major": 2,
       "version_minor": 0
      },
      "text/plain": [
       "vocab.txt:   0%|          | 0.00/232k [00:00<?, ?B/s]"
      ]
     },
     "metadata": {},
     "output_type": "display_data"
    },
    {
     "data": {
      "application/vnd.jupyter.widget-view+json": {
       "model_id": "811f4c8dc36e43fa8aa0c9a32706c5f0",
       "version_major": 2,
       "version_minor": 0
      },
      "text/plain": [
       "tokenizer.json:   0%|          | 0.00/466k [00:00<?, ?B/s]"
      ]
     },
     "metadata": {},
     "output_type": "display_data"
    },
    {
     "data": {
      "application/vnd.jupyter.widget-view+json": {
       "model_id": "1f72ab724da9437c884a89f5421b9fbb",
       "version_major": 2,
       "version_minor": 0
      },
      "text/plain": [
       "config.json:   0%|          | 0.00/570 [00:00<?, ?B/s]"
      ]
     },
     "metadata": {},
     "output_type": "display_data"
    },
    {
     "name": "stderr",
     "output_type": "stream",
     "text": [
      "/usr/local/lib/python3.10/dist-packages/transformers/tokenization_utils_base.py:1601: FutureWarning: `clean_up_tokenization_spaces` was not set. It will be set to `True` by default. This behavior will be depracted in transformers v4.45, and will be then set to `False` by default. For more details check this issue: https://github.com/huggingface/transformers/issues/31884\n",
      "  warnings.warn(\n"
     ]
    }
   ],
   "source": [
    "tokenizer = BertTokenizer.from_pretrained(\"bert-base-uncased\", do_lower_case=True)"
   ]
  },
  {
   "cell_type": "code",
   "execution_count": 5,
   "metadata": {
    "executionInfo": {
     "elapsed": 5,
     "status": "ok",
     "timestamp": 1729586854659,
     "user": {
      "displayName": "lucas #",
      "userId": "02174380894134051938"
     },
     "user_tz": -120
    },
    "id": "JkUifAjngSms"
   },
   "outputs": [],
   "source": [
    "def preprocessing_fn(x, tokenizer):\n",
    "    x[\"review_ids\"] = tokenizer(\n",
    "        x[\"review\"],\n",
    "        add_special_tokens=False,\n",
    "        truncation=True,\n",
    "        max_length=256,\n",
    "        padding=False,\n",
    "        return_attention_mask=False,\n",
    "    )[\"input_ids\"]\n",
    "    x[\"label\"] = 0 if x[\"sentiment\"] == \"negative\" else 1\n",
    "    return x"
   ]
  },
  {
   "cell_type": "code",
   "execution_count": 6,
   "metadata": {
    "colab": {
     "base_uri": "https://localhost:8080/",
     "height": 49,
     "referenced_widgets": [
      "2f1cebcba0094c87bdf91314f92b108e",
      "c831fca47dcc4fc6aae1a133b8f43265",
      "c011034ff39a4600aefa6833c6607cf1",
      "7bc09658feba4948964edea0a782920e",
      "42ef6239f571411abd20362b6497661b",
      "557ba0a74fb84b41b4ff9e2a929a3170",
      "1c59a25446c54a16add1b9b6f5aaf0fe",
      "df831c89b3594a85877de350caa5cb2d",
      "857a0b01373a4f38a2712c6331504619",
      "d6b86b15ea6f470f942c9842f9e4f78d",
      "aa683de3af6d42bfbb2748a5f082b888"
     ]
    },
    "executionInfo": {
     "elapsed": 47448,
     "status": "ok",
     "timestamp": 1729586902103,
     "user": {
      "displayName": "lucas #",
      "userId": "02174380894134051938"
     },
     "user_tz": -120
    },
    "id": "MGNbn0IxgSmu",
    "outputId": "5aa36c72-e155-413e-f42a-4600d1814305"
   },
   "outputs": [
    {
     "data": {
      "application/vnd.jupyter.widget-view+json": {
       "model_id": "2f1cebcba0094c87bdf91314f92b108e",
       "version_major": 2,
       "version_minor": 0
      },
      "text/plain": [
       "Map:   0%|          | 0/5000 [00:00<?, ? examples/s]"
      ]
     },
     "metadata": {},
     "output_type": "display_data"
    }
   ],
   "source": [
    "n_samples = 5000  # the number of training example\n",
    "\n",
    "# We first shuffle the data !\n",
    "# TODO\n",
    "dataset = dataset.shuffle(seed=42)\n",
    "\n",
    "# Select 5000 samples\n",
    "# TODO\n",
    "dataset = dataset.select(range(n_samples))\n",
    "\n",
    "# Tokenize the dataset\n",
    "# TODO\n",
    "dataset = dataset.map(lambda x: preprocessing_fn(x, tokenizer))\n",
    "\n",
    "# Remove useless columns\n",
    "# TODO\n",
    "dataset = dataset.remove_columns(\n",
    "    [col for col in dataset.column_names if col not in [\"review_ids\", \"label\"]]\n",
    ")\n",
    "\n",
    "\n",
    "# # Split the train and validation\n",
    "# # TODO\n",
    "train_valid_split = dataset.train_test_split(test_size=0.2, seed=42)\n",
    "\n",
    "\n",
    "document_train_set = train_valid_split[\"train\"]  # TODO\n",
    "document_valid_set = train_valid_split[\"test\"]  # TODO"
   ]
  },
  {
   "cell_type": "code",
   "execution_count": 7,
   "metadata": {
    "colab": {
     "base_uri": "https://localhost:8080/"
    },
    "executionInfo": {
     "elapsed": 387,
     "status": "ok",
     "timestamp": 1729586902487,
     "user": {
      "displayName": "lucas #",
      "userId": "02174380894134051938"
     },
     "user_tz": -120
    },
    "id": "FPvtAuBcQ_DL",
    "outputId": "96b3947e-c220-4900-fa7f-3c7cd1aed263"
   },
   "outputs": [
    {
     "name": "stdout",
     "output_type": "stream",
     "text": [
      "{'review_ids': [1996, 24385, 2003, 1037, 2428, 2204, 10874, 1012, 1998, 3492, 14888, 1012, 1045, 2228, 2057, 2064, 2035, 5993, 2008, 1996, 9592, 1997, 2770, 2046, 1037, 18224, 24385, 2024, 2172, 7046, 2084, 2770, 2046, 9219, 1010, 6144, 2030, 14106, 1012, 2008, 1005, 1055, 3599, 2339, 2023, 3185, 2003, 2061, 12459, 1012, 2076, 2023, 2143, 1010, 2017, 1005, 2222, 2763, 2228, 2055, 2115, 2219, 24385, 1037, 2261, 2335, 1012, 3251, 2002, 1005, 1055, 5214, 1997, 2725, 2107, 2477, 1012, 1012, 1012, 2017, 2488, 11839, 2010, 2564, 2987, 1005, 1056, 21910, 2006, 2032, 1012, 2008, 1005, 1055, 2054, 1996, 2466, 2003, 2035, 2055, 1012, 1037, 9768, 24385, 1999, 2474, 20057, 2043, 2002, 4858, 2041, 2010, 2564, 2003, 16789, 2006, 2032, 2007, 1996, 4770, 1011, 2879, 1012, 1006, 2008, 2442, 2022, 1996, 4602, 9518, 1999, 1996, 2088, 1010, 2011, 1996, 2126, 1012, 4770, 24916, 2467, 2202, 5056, 1997, 1996, 2160, 23744, 2043, 1996, 3129, 2003, 2012, 2010, 2147, 1007, 2013, 2059, 2006, 2256, 24385, 1010, 2852, 1012, 27132, 9221, 1010, 2064, 2069, 2518, 2055, 2635, 7195, 1012, 2002, 2064, 1005, 1056, 10152, 2006, 2010, 5022, 4902, 1998, 1037, 3232, 1997, 2068, 2131, 3480, 1012, 2477, 4995, 1005, 1056, 2081, 6082, 2005, 2256, 24385, 2043, 2002, 1005, 1055, 13303, 2011, 2019, 15703, 4171, 1011, 11486, 1010, 1037, 8025, 8872, 1998, 1037, 10027, 3095, 2266, 1997, 2010, 1012, 2012, 2028, 2391, 1010, 2852, 1012, 27132, 9221, 2064, 1005, 1056, 2202, 2009, 4902, 1012, 2085, 2002, 1005, 1055, 2025, 2069, 2044, 2010, 2564, 2021, 2044, 3071, 2040, 3310, 2379, 2032, 1012, 1012, 1996], 'label': 1}\n",
      "{'review_ids': [2023, 2143, 2003, 2028, 1997, 1996, 2062, 15544, 17729, 2304, 1998, 2317, 3152, 1997, 2023, 2051, 1999, 1996, 2220, 4479, 1005, 1055, 2077, 1996, 7570, 22123, 2015, 3642, 2001, 16348, 1012, 2009, 1005, 1055, 1996, 2466, 1997, 1037, 2402, 3376, 2450, 3048, 2000, 2047, 2259, 1998, 2437, 2014, 2126, 2000, 1996, 2327, 1997, 1996, 2449, 2011, 2478, 2014, 2303, 2004, 1037, 6994, 2000, 2131, 2045, 1012, 1026, 7987, 1013, 1028, 1026, 7987, 1013, 1028, 6437, 9761, 18418, 3600, 3248, 1996, 2402, 1998, 3376, 7094, 4204, 2040, 5262, 2515, 1037, 7199, 2092, 3105, 2007, 2014, 2836, 1012, 7094, 5829, 2000, 2047, 2259, 1998, 3084, 2014, 2126, 2039, 1996, 2449, 2173, 2011, 5777, 2007, 2035, 1996, 2273, 1012, 9761, 18418, 3600, 2515, 2019, 5151, 2836, 2004, 2108, 1037, 2844, 2450, 2040, 3594, 2273, 2004, 2028, 2051, 9144, 1010, 6684, 2151, 7603, 2875, 2068, 2652, 2068, 2004, 2065, 2027, 2020, 19175, 2015, 1012, 7094, 4204, 2003, 1037, 2450, 2040, 2987, 1005, 1056, 2031, 2293, 2006, 2014, 2568, 2074, 2373, 1998, 2769, 1012, 1026, 7987, 1013, 1028, 1026, 7987, 1013, 1028, 1045, 2245, 2023, 3185, 2000, 2022, 1037, 2210, 2978, 2367, 2059, 2060, 3152, 1045, 2031, 2464, 2138, 2045, 2003, 6684, 2151, 4281, 2189, 2657, 1012, 1045, 2903, 2009, 2003, 2069, 2138, 2023, 2003, 2043, 2111, 2020, 2034, 3107, 2000, 2444, 2614, 1998, 7982, 2090, 1996, 2111, 1997, 1996, 2143, 1012, 1996, 2261, 2335, 1996, 2189, 2003, 2657, 2003, 2076, 1996, 2927, 2004, 2057, 2024, 3491, 2129, 2016, 3084, 2014, 2126, 2039, 1996, 4677, 1012, 1996, 7467, 1998, 2367, 5019], 'label': 1}\n",
      "{'review_ids': [2028, 2773, 1024, 10514, 5311, 12171, 15185, 999, 1045, 2123, 1005, 1056, 2228, 1045, 2031, 2156, 2505, 2066, 2023, 1999, 1037, 2146, 2051, 2006, 2897, 2030, 5830, 2547, 1012, 3666, 2023, 2265, 2001, 2066, 2635, 1037, 3052, 1997, 4840, 2250, 13463, 2694, 6134, 3561, 2007, 4507, 3065, 1998, 11771, 2128, 1011, 3216, 1012, 1026, 7987, 1013, 1028, 1026, 7987, 1013, 1028, 1045, 2031, 2000, 2360, 1045, 2018, 2026, 17829, 1012, 2044, 2035, 1010, 4401, 2020, 2471, 13604, 1999, 6933, 12487, 1998, 2091, 16307, 2075, 1996, 2265, 1012, 2021, 2043, 2431, 2019, 3178, 2001, 2058, 1006, 2011, 1996, 2126, 1010, 4067, 2017, 1010, 6788, 1010, 2005, 2770, 1037, 3293, 1011, 2489, 2265, 1007, 1010, 1045, 2001, 2187, 2007, 1996, 3110, 1997, 7107, 2293, 1010, 2293, 2012, 2034, 6054, 1010, 1996, 2995, 2293, 2008, 2028, 5683, 1999, 2010, 18453, 1012, 2673, 2055, 2023, 2265, 7210, 8012, 1012, 1026, 7987, 1013, 1028, 1026, 7987, 1013, 1028, 8389, 1999, 2023, 2265, 2020, 2012, 2560, 2004, 2204, 2004, 4531, 11265, 5302, 1998, 14021, 16816, 1012, 2053, 2235, 8658, 6195, 2216, 5691, 2165, 2086, 2000, 2022, 2764, 1012, 1026, 7987, 1013, 1028, 1026, 7987, 1013, 1028, 3459, 2001, 28851, 1012, 1045, 2572, 7704, 2000, 2198, 14514, 1005, 1055, 2376, 1010, 2021, 1996, 2717, 1997, 1996, 2136, 5121, 2020, 2006, 11968, 2007, 2198, 1012, 2569, 5254, 1024, 7059, 13970, 22196, 2860, 1005, 1055, 4113, 3311, 1012, 2016, 2001, 2006, 2327, 1997, 1996, 2208, 4526, 11265, 10976, 4588, 1010, 16405, 2094, 6292, 1010, 1998, 8840, 12423, 25462, 2007, 1037, 3644, 9039, 1999, 2014, 1012], 'label': 1}\n",
      "{'review_ids': [2073, 2079, 2057, 2707, 2007, 2019, 5378, 2066, 2023, 1029, 1045, 3053, 2056, 2143, 2021, 2008, 2052, 2022, 2183, 1037, 3357, 2205, 2521, 1012, 1996, 2069, 2518, 3109, 4509, 2055, 2023, 2143, 2003, 2008, 2009, 2003, 5121, 1037, 3510, 2081, 1999, 3109, 1010, 2090, 2498, 1998, 14652, 1010, 28352, 17791, 1998, 13852, 2121, 8883, 2232, 1012, 2122, 3152, 2323, 4287, 1037, 19389, 2740, 5432, 2061, 2004, 2025, 2000, 4053, 2028, 1005, 1055, 4382, 2000, 1996, 2391, 2073, 2028, 2453, 2903, 2008, 2035, 2204, 2143, 11153, 2031, 2187, 1996, 4774, 1998, 2037, 4219, 2031, 2042, 4375, 2000, 1996, 24654, 4063, 13038, 2040, 2031, 2191, 2023, 4438, 3538, 1997, 13012, 2618, 13044, 2074, 2066, 2009, 1005, 1055, 2905, 1999, 2608, 1000, 2223, 1997, 9313, 1056, 26016, 10362, 1000, 1012, 2027, 2024, 4445, 2671, 4349, 4496, 2755, 1010, 14036, 4496, 2245, 4013, 22776, 1010, 14742, 4496, 3635, 2100, 2021, 3913, 1999, 1037, 13132, 4224, 22808, 1997, 2151, 1998, 2035, 16222, 5833, 28578, 11187, 2008, 4372, 4588, 2063, 2111, 2000, 2507, 2039, 2037, 7070, 2051, 1010, 4133, 1999, 1037, 13755, 2282, 1998, 3227, 2022, 2062, 4372, 7138, 6675, 1010, 4372, 3669, 8159, 2098, 2030, 3407, 2012, 1996, 2203, 1997, 2009, 1012, 2065, 2057, 2071, 2400, 1000, 4977, 1000, 2685, 2005, 3152, 2066, 2023, 1010, 2023, 2052, 2022, 1037, 2735, 11514, 1010, 2004, 2057, 2052, 2908, 2083, 1996, 4977, 1010, 10654, 1010, 14629, 1010, 11867, 22494, 3215, 1010, 24665, 11431, 2100, 1998, 2035, 2060, 7861, 17327, 21808, 2015, 2077, 4285, 2600, 3953, 1012], 'label': 0}\n",
      "{'review_ids': [2097, 3044, 2003, 5744, 2004, 5156, 1999, 1996, 3185, 27738, 1012, 3044, 2015, 2839, 27738, 2003, 1037, 3058, 3460, 1012, 2002, 5246, 27916, 2839, 2040, 2003, 1037, 13761, 13317, 1012, 2012, 2028, 2391, 27738, 3065, 2010, 2293, 3037, 2014, 2307, 5615, 2015, 2171, 1999, 1996, 7521, 2338, 2012, 8547, 2479, 12097, 2054, 2003, 2941, 2019, 5412, 2724, 2003, 1037, 16507, 1012, 2025, 2146, 2044, 1045, 3855, 2732, 7138, 1999, 2026, 3025, 3319, 2651, 1012, 2045, 2001, 1037, 3193, 1997, 1996, 14330, 2100, 3712, 1999, 12084, 9374, 2075, 2008, 2026, 4231, 16923, 20375, 18684, 2015, 2525, 2354, 2008, 2001, 2183, 2000, 2022, 2045, 2349, 2000, 5514, 2084, 2422, 4806, 1012, 1026, 7987, 1013, 1028, 1026, 7987, 1013, 1028, 1996, 3287, 2732, 2013, 1996, 2265, 1996, 2332, 1997, 8603, 2003, 2200, 6057, 1999, 2023, 3185, 2926, 2010, 3153, 5829, 1012, 1996, 27395, 4668, 2006, 27738, 2015, 2227, 2003, 1037, 2210, 10311, 2000, 4756, 2012, 2130, 2295, 2009, 2003, 2074, 9811, 1012, 1026, 7987, 1013, 1028, 1026, 7987, 1013, 1028, 2026, 6745, 4471, 2013, 2026, 2684, 6423, 2015, 7976, 4454, 3274, 2006, 1996, 8543, 1997, 4286, 2188, 2088, 5317, 23654, 2008, 2026, 4231, 16923, 2004, 2112, 1997, 4231, 27657, 2003, 2379, 2758, 1024, 1000, 8600, 1045, 1005, 1049, 3100, 2153, 1012, 1000, 2014, 7696, 2024, 2467, 2200, 2460, 1012, 2009, 2003, 1037, 8025, 5418, 1012, 8600, 2097, 2467, 2293, 2017, 6423, 1012, 4283, 2000, 2256, 8543, 2057, 2064, 2831, 5091, 1012, 7483, 8600, 5720, 2000, 1996, 2034, 2017, 2006, 1996, 7026, 1998, 2409, 2017, 2115, 19453, 2051, 2876, 1005], 'label': 1}\n",
      "<class 'int'>\n",
      "<class 'int'>\n"
     ]
    }
   ],
   "source": [
    "# Print the first 5 rows of the training set\n",
    "for i in range(5):\n",
    "    print(document_train_set[i])\n",
    "\n",
    "print(type(document_train_set[0][\"review_ids\"][0]))\n",
    "print(type(document_train_set[0][\"label\"]))"
   ]
  },
  {
   "cell_type": "code",
   "execution_count": 8,
   "metadata": {
    "colab": {
     "base_uri": "https://localhost:8080/"
    },
    "executionInfo": {
     "elapsed": 9,
     "status": "ok",
     "timestamp": 1729586902487,
     "user": {
      "displayName": "lucas #",
      "userId": "02174380894134051938"
     },
     "user_tz": -120
    },
    "id": "jHkvUxKPQ_DM",
    "outputId": "dc53e530-55df-4136-c340-999d29ce3de4"
   },
   "outputs": [
    {
     "name": "stdout",
     "output_type": "stream",
     "text": [
      "Using device: cpu\n"
     ]
    }
   ],
   "source": [
    "# Use a GPU if available, otherwise use MPS or CPU\n",
    "if torch.cuda.is_available():\n",
    "    device = torch.device(\"cuda\")\n",
    "elif torch.backends.mps.is_available():\n",
    "    device = torch.device(\"mps\")\n",
    "else:\n",
    "    device = torch.device(\"cpu\")\n",
    "\n",
    "print(f\"Using device: {device}\")"
   ]
  },
  {
   "cell_type": "code",
   "execution_count": 9,
   "metadata": {
    "executionInfo": {
     "elapsed": 6,
     "status": "ok",
     "timestamp": 1729586902487,
     "user": {
      "displayName": "lucas #",
      "userId": "02174380894134051938"
     },
     "user_tz": -120
    },
    "id": "RlreXB3zQ_DM"
   },
   "outputs": [],
   "source": [
    "def extract_words_context(review_ids, R):\n",
    "    w = []\n",
    "    Cplus = []\n",
    "    text_size = len(review_ids)\n",
    "\n",
    "    # If the text size is smaller than the required window size (2 * R + 1),\n",
    "    # we cannot form a valid context, so we return the empty lists.\n",
    "    if text_size < 2 * R + 1:\n",
    "        return w, Cplus\n",
    "\n",
    "    else:\n",
    "        for i in range(R, text_size - R):\n",
    "            w.append(review_ids[i])\n",
    "            left_context = review_ids[i - R : i]\n",
    "            right_context = review_ids[i + 1 : i + R + 1]\n",
    "            context = left_context + right_context\n",
    "            Cplus.append(context)\n",
    "\n",
    "    return w, Cplus"
   ]
  },
  {
   "cell_type": "code",
   "execution_count": 10,
   "metadata": {
    "colab": {
     "base_uri": "https://localhost:8080/"
    },
    "executionInfo": {
     "elapsed": 5,
     "status": "ok",
     "timestamp": 1729586902487,
     "user": {
      "displayName": "lucas #",
      "userId": "02174380894134051938"
     },
     "user_tz": -120
    },
    "id": "7YATN7h4Q_DM",
    "outputId": "df599fcd-8dfb-423c-df0a-fce2bded251b"
   },
   "outputs": [
    {
     "name": "stdout",
     "output_type": "stream",
     "text": [
      "{'review_ids': [1996, 24385, 2003, 1037, 2428, 2204, 10874, 1012, 1998, 3492, 14888, 1012, 1045, 2228, 2057, 2064, 2035, 5993, 2008, 1996, 9592, 1997, 2770, 2046, 1037, 18224, 24385, 2024, 2172, 7046, 2084, 2770, 2046, 9219, 1010, 6144, 2030, 14106, 1012, 2008, 1005, 1055, 3599, 2339, 2023, 3185, 2003, 2061, 12459, 1012, 2076, 2023, 2143, 1010, 2017, 1005, 2222, 2763, 2228, 2055, 2115, 2219, 24385, 1037, 2261, 2335, 1012, 3251, 2002, 1005, 1055, 5214, 1997, 2725, 2107, 2477, 1012, 1012, 1012, 2017, 2488, 11839, 2010, 2564, 2987, 1005, 1056, 21910, 2006, 2032, 1012, 2008, 1005, 1055, 2054, 1996, 2466, 2003, 2035, 2055, 1012, 1037, 9768, 24385, 1999, 2474, 20057, 2043, 2002, 4858, 2041, 2010, 2564, 2003, 16789, 2006, 2032, 2007, 1996, 4770, 1011, 2879, 1012, 1006, 2008, 2442, 2022, 1996, 4602, 9518, 1999, 1996, 2088, 1010, 2011, 1996, 2126, 1012, 4770, 24916, 2467, 2202, 5056, 1997, 1996, 2160, 23744, 2043, 1996, 3129, 2003, 2012, 2010, 2147, 1007, 2013, 2059, 2006, 2256, 24385, 1010, 2852, 1012, 27132, 9221, 1010, 2064, 2069, 2518, 2055, 2635, 7195, 1012, 2002, 2064, 1005, 1056, 10152, 2006, 2010, 5022, 4902, 1998, 1037, 3232, 1997, 2068, 2131, 3480, 1012, 2477, 4995, 1005, 1056, 2081, 6082, 2005, 2256, 24385, 2043, 2002, 1005, 1055, 13303, 2011, 2019, 15703, 4171, 1011, 11486, 1010, 1037, 8025, 8872, 1998, 1037, 10027, 3095, 2266, 1997, 2010, 1012, 2012, 2028, 2391, 1010, 2852, 1012, 27132, 9221, 2064, 1005, 1056, 2202, 2009, 4902, 1012, 2085, 2002, 1005, 1055, 2025, 2069, 2044, 2010, 2564, 2021, 2044, 3071, 2040, 3310, 2379, 2032, 1012, 1012, 1996], 'label': 1}\n",
      "2003 [1996, 24385, 1037, 2428]\n",
      "4 4\n"
     ]
    }
   ],
   "source": [
    "# Test the function\n",
    "print(document_train_set[0])\n",
    "w, Cplus = extract_words_context(document_train_set[0][\"review_ids\"], 2)\n",
    "print(w[0], Cplus[0])\n",
    "\n",
    "# Make sure that every Cplus has the same size:\n",
    "print(\n",
    "    min(len(Cplus[i]) for i in range(len(Cplus))),\n",
    "    max(len(Cplus[i]) for i in range(len(Cplus))),\n",
    ")"
   ]
  },
  {
   "cell_type": "code",
   "execution_count": 11,
   "metadata": {
    "executionInfo": {
     "elapsed": 4,
     "status": "ok",
     "timestamp": 1729586902487,
     "user": {
      "displayName": "lucas #",
      "userId": "02174380894134051938"
     },
     "user_tz": -120
    },
    "id": "oVwRgd36Q_DM"
   },
   "outputs": [],
   "source": [
    "def flatten_dataset_to_list(dataset, R):\n",
    "    W = []\n",
    "    CPLUS = []\n",
    "    for doc in dataset:\n",
    "        w, Cplus = extract_words_context(doc[\"review_ids\"], R)\n",
    "        W.extend(w)\n",
    "        CPLUS.extend(Cplus)\n",
    "\n",
    "    return W, CPLUS"
   ]
  },
  {
   "cell_type": "code",
   "execution_count": 12,
   "metadata": {
    "executionInfo": {
     "elapsed": 5,
     "status": "ok",
     "timestamp": 1729586902488,
     "user": {
      "displayName": "lucas #",
      "userId": "02174380894134051938"
     },
     "user_tz": -120
    },
    "id": "IusI3ML5Q_DN"
   },
   "outputs": [],
   "source": [
    "# Define a value for K,R:\n",
    "R = 6\n",
    "K = 2"
   ]
  },
  {
   "cell_type": "code",
   "execution_count": 13,
   "metadata": {
    "colab": {
     "base_uri": "https://localhost:8080/"
    },
    "executionInfo": {
     "elapsed": 3687,
     "status": "ok",
     "timestamp": 1729586906170,
     "user": {
      "displayName": "lucas #",
      "userId": "02174380894134051938"
     },
     "user_tz": -120
    },
    "id": "B5-txhrEQ_DN",
    "outputId": "38ba84bb-a825-47ef-ae70-ea3008525244"
   },
   "outputs": [
    {
     "name": "stdout",
     "output_type": "stream",
     "text": [
      "10874 [1996, 24385, 2003, 1037, 2428, 2204, 1012, 1998, 3492, 14888, 1012, 1045]\n"
     ]
    }
   ],
   "source": [
    "flattened_train_W, flattened_train_Cplus = flatten_dataset_to_list(\n",
    "    document_train_set, R\n",
    ")\n",
    "flattened_val_W, flattened_val_Cplus = flatten_dataset_to_list(document_valid_set, R)\n",
    "print(flattened_train_W[0], flattened_train_Cplus[0])"
   ]
  },
  {
   "cell_type": "code",
   "execution_count": 14,
   "metadata": {
    "executionInfo": {
     "elapsed": 5,
     "status": "ok",
     "timestamp": 1729586906170,
     "user": {
      "displayName": "lucas #",
      "userId": "02174380894134051938"
     },
     "user_tz": -120
    },
    "id": "DipGAZkFQ_DN"
   },
   "outputs": [],
   "source": [
    "from torch.utils.data import Dataset\n",
    "\n",
    "\n",
    "class Word2vecdataset(Dataset):\n",
    "    def __init__(self, flat_W: list, flat_Cplus: list):\n",
    "        self.W = flat_W\n",
    "        self.Cplus = flat_Cplus\n",
    "\n",
    "    def __len__(self):\n",
    "        return len(self.W)\n",
    "\n",
    "    def __getitem__(self, idx: int):\n",
    "        word = self.W[idx]\n",
    "        context = self.Cplus[idx]\n",
    "        return word, context"
   ]
  },
  {
   "cell_type": "code",
   "execution_count": 15,
   "metadata": {
    "executionInfo": {
     "elapsed": 4,
     "status": "ok",
     "timestamp": 1729586906170,
     "user": {
      "displayName": "lucas #",
      "userId": "02174380894134051938"
     },
     "user_tz": -120
    },
    "id": "2utVCGqhQ_DN"
   },
   "outputs": [],
   "source": [
    "train_set = Word2vecdataset(flattened_train_W, flattened_train_Cplus)\n",
    "valid_set = Word2vecdataset(flattened_val_W, flattened_val_Cplus)"
   ]
  },
  {
   "cell_type": "code",
   "execution_count": 16,
   "metadata": {
    "colab": {
     "base_uri": "https://localhost:8080/"
    },
    "executionInfo": {
     "elapsed": 4,
     "status": "ok",
     "timestamp": 1729586906170,
     "user": {
      "displayName": "lucas #",
      "userId": "02174380894134051938"
     },
     "user_tz": -120
    },
    "id": "h7jE0tOpQ_DN",
    "outputId": "28dcfbbb-0b14-4863-a271-04c3063d7053"
   },
   "outputs": [
    {
     "name": "stdout",
     "output_type": "stream",
     "text": [
      "10874 [1996, 24385, 2003, 1037, 2428, 2204, 1012, 1998, 3492, 14888, 1012, 1045]\n"
     ]
    }
   ],
   "source": [
    "# Test:\n",
    "word, context = train_set[0]\n",
    "print(word, context)"
   ]
  },
  {
   "cell_type": "code",
   "execution_count": 17,
   "metadata": {
    "executionInfo": {
     "elapsed": 4,
     "status": "ok",
     "timestamp": 1729586906170,
     "user": {
      "displayName": "lucas #",
      "userId": "02174380894134051938"
     },
     "user_tz": -120
    },
    "id": "r0j9xEcZQ_DN"
   },
   "outputs": [],
   "source": [
    "import random\n",
    "\n",
    "\n",
    "def collate_fn(batch, K, R):\n",
    "    word_id_batch = []\n",
    "    positive_context_ids_batch = []\n",
    "    negative_context_ids_batch = []\n",
    "    vocab_size = tokenizer.vocab_size\n",
    "    n_neg_samples = 2 * K * R\n",
    "\n",
    "    for word, context in batch:\n",
    "        word_id_batch.append(word)\n",
    "        positive_context_ids_batch.append(context)\n",
    "\n",
    "        # Randomly sample 2KR words from the vocabulary for the negative context\n",
    "        random_word_ids = random.sample(range(vocab_size), n_neg_samples)\n",
    "        negative_context_ids_batch.append(random_word_ids)\n",
    "\n",
    "    word_id_batch = torch.tensor(word_id_batch, dtype=torch.long).to(device)\n",
    "    positive_context_ids_batch = torch.tensor(\n",
    "        positive_context_ids_batch, dtype=torch.long\n",
    "    ).to(device)\n",
    "    negative_context_ids_batch = torch.tensor(\n",
    "        negative_context_ids_batch, dtype=torch.long\n",
    "    ).to(device)\n",
    "\n",
    "    return {\n",
    "        \"word_id\": word_id_batch,\n",
    "        \"positive_context_ids\": positive_context_ids_batch,\n",
    "        \"negative_context_ids\": negative_context_ids_batch,\n",
    "    }"
   ]
  },
  {
   "cell_type": "code",
   "execution_count": 18,
   "metadata": {
    "executionInfo": {
     "elapsed": 4,
     "status": "ok",
     "timestamp": 1729586906170,
     "user": {
      "displayName": "lucas #",
      "userId": "02174380894134051938"
     },
     "user_tz": -120
    },
    "id": "jlrrhMpgQ_DN"
   },
   "outputs": [],
   "source": [
    "batch_size = 32\n",
    "\n",
    "train_loader = DataLoader(\n",
    "    dataset=train_set,\n",
    "    batch_size=batch_size,\n",
    "    shuffle=True,\n",
    "    collate_fn=lambda batch: collate_fn(batch, K, R),\n",
    ")\n",
    "\n",
    "val_loader = DataLoader(\n",
    "    dataset=valid_set,\n",
    "    batch_size=batch_size,\n",
    "    shuffle=False,\n",
    "    collate_fn=lambda batch: collate_fn(batch, K, R),\n",
    ")"
   ]
  },
  {
   "cell_type": "code",
   "execution_count": 19,
   "metadata": {
    "colab": {
     "base_uri": "https://localhost:8080/"
    },
    "executionInfo": {
     "elapsed": 273,
     "status": "ok",
     "timestamp": 1729586906440,
     "user": {
      "displayName": "lucas #",
      "userId": "02174380894134051938"
     },
     "user_tz": -120
    },
    "id": "D5OfKntEQ_DN",
    "outputId": "77c886fc-95fd-4e04-8f83-8417c24f275a"
   },
   "outputs": [
    {
     "name": "stdout",
     "output_type": "stream",
     "text": [
      "R = 6 K = 2\n",
      "Shape of word_ids: torch.Size([32])\n",
      "Shape of positive_context_ids: torch.Size([32, 12])\n",
      "Shape of negative_context_ids: torch.Size([32, 24])\n",
      "Shape of word_ids: torch.Size([32])\n",
      "Shape of positive_context_ids: torch.Size([32, 12])\n",
      "Shape of negative_context_ids: torch.Size([32, 24])\n",
      "Shape of word_ids: torch.Size([32])\n",
      "Shape of positive_context_ids: torch.Size([32, 12])\n",
      "Shape of negative_context_ids: torch.Size([32, 24])\n"
     ]
    }
   ],
   "source": [
    "num_iterations = 3\n",
    "print(f\"R = {R}\", f\"K = {K}\")\n",
    "for i, batch in enumerate(train_loader):\n",
    "    word_ids = batch[\"word_id\"]\n",
    "    positive_contexts = batch[\"positive_context_ids\"]\n",
    "    negative_contexts = batch[\"negative_context_ids\"]\n",
    "\n",
    "    print(f\"Shape of word_ids: {word_ids.shape}\")\n",
    "    print(f\"Shape of positive_context_ids: {positive_contexts.shape}\")\n",
    "    print(f\"Shape of negative_context_ids: {negative_contexts.shape}\")\n",
    "\n",
    "    if i + 1 == num_iterations:\n",
    "        break"
   ]
  },
  {
   "cell_type": "markdown",
   "metadata": {
    "id": "Wl4FM-4FQ_DO"
   },
   "source": [
    "# Model"
   ]
  },
  {
   "cell_type": "code",
   "execution_count": 20,
   "metadata": {
    "executionInfo": {
     "elapsed": 3,
     "status": "ok",
     "timestamp": 1729586906440,
     "user": {
      "displayName": "lucas #",
      "userId": "02174380894134051938"
     },
     "user_tz": -120
    },
    "id": "5UrzC-1VQ_DO"
   },
   "outputs": [],
   "source": [
    "class Word2Vec(nn.Module):\n",
    "    def __init__(self, vocab_size, embedding_dim):\n",
    "        super().__init__()\n",
    "        self.Ew = nn.Embedding(num_embeddings=vocab_size, embedding_dim=embedding_dim)\n",
    "        self.Ec = nn.Embedding(num_embeddings=vocab_size, embedding_dim=embedding_dim)\n",
    "\n",
    "    def forward(self, w, cplus, cminus):\n",
    "        W = self.Ew(w)\n",
    "        CPLUS = self.Ec(cplus)\n",
    "        CMINUS = self.Ec(cminus)\n",
    "\n",
    "        # Compute raw logits (dot products)\n",
    "        logits_plus = torch.bmm(CPLUS, W.unsqueeze(2)).squeeze(2)\n",
    "        logits_minus = torch.bmm(CMINUS, W.unsqueeze(2)).squeeze(2)\n",
    "\n",
    "        # Concatenate logits and labels\n",
    "        logits = torch.cat([logits_minus, logits_plus], dim=1)\n",
    "        positive_labels = torch.ones_like(logits_plus)\n",
    "        negative_labels = torch.zeros_like(logits_minus)\n",
    "        labels = torch.cat([negative_labels, positive_labels], dim=1)\n",
    "\n",
    "        permutation = torch.randperm(logits.size(1))\n",
    "        shuffled_logits = logits[:, permutation]\n",
    "        shuffled_labels = labels[:, permutation]\n",
    "\n",
    "        return shuffled_logits, shuffled_labels"
   ]
  },
  {
   "cell_type": "code",
   "execution_count": 21,
   "metadata": {
    "colab": {
     "base_uri": "https://localhost:8080/"
    },
    "executionInfo": {
     "elapsed": 262,
     "status": "ok",
     "timestamp": 1729586906700,
     "user": {
      "displayName": "lucas #",
      "userId": "02174380894134051938"
     },
     "user_tz": -120
    },
    "id": "V2rZYQvRQ_DO",
    "outputId": "c1f903b6-6530-4950-9519-7f300c6c966d"
   },
   "outputs": [
    {
     "name": "stdout",
     "output_type": "stream",
     "text": [
      "Shuffled similarity tensor([-5.1833, -2.1783,  4.5083,  2.3522,  1.1669,  0.2165,  7.9974,  2.1353,\n",
      "        -5.0426,  3.0781, -8.2455, -6.5568, -9.5623, -0.5392,  2.9878,  3.2247,\n",
      "         7.4860, -4.6788, -4.3246,  1.9820,  0.0298,  1.3031,  5.9460, -4.7181,\n",
      "        -1.3950,  7.2008, -5.1156, -1.3221, 11.4176,  2.7218, -2.7624, -0.9249,\n",
      "         3.6488,  7.0019,  0.1776,  4.6549], grad_fn=<SelectBackward0>)\n",
      "Shuffled labels tensor([0., 0., 1., 0., 0., 0., 1., 0., 0., 1., 0., 1., 0., 0., 0., 0., 1., 1.,\n",
      "        1., 0., 0., 0., 1., 1., 1., 0., 0., 0., 0., 0., 0., 1., 0., 0., 1., 0.])\n"
     ]
    }
   ],
   "source": [
    "# Test to see the tensors similarity and labels\n",
    "vocab_size = tokenizer.vocab_size\n",
    "embedding_dim = 10\n",
    "model = Word2Vec(vocab_size, embedding_dim).to(device)\n",
    "\n",
    "num_iterations = 1\n",
    "\n",
    "for i, batch in enumerate(train_loader):\n",
    "    word_ids = batch[\"word_id\"].to(device)\n",
    "    positive_contexts = batch[\"positive_context_ids\"].to(device)\n",
    "    negative_contexts = batch[\"negative_context_ids\"].to(device)\n",
    "    shuffled_similarity, shuffled_labels = model(\n",
    "        word_ids, positive_contexts, negative_contexts\n",
    "    )\n",
    "    print(\"Shuffled similarity\", shuffled_similarity[0])\n",
    "    print(\"Shuffled labels\", shuffled_labels[0])\n",
    "\n",
    "    if i + 1 == num_iterations:\n",
    "        break"
   ]
  },
  {
   "cell_type": "code",
   "execution_count": 22,
   "metadata": {
    "executionInfo": {
     "elapsed": 3,
     "status": "ok",
     "timestamp": 1729586906700,
     "user": {
      "displayName": "lucas #",
      "userId": "02174380894134051938"
     },
     "user_tz": -120
    },
    "id": "faI3DRM7Q_DO"
   },
   "outputs": [],
   "source": [
    "def train_model(model, B, E, train_set, learning_rate=0.01):\n",
    "    optimizer = torch.optim.Adam(model.parameters(), lr=learning_rate)\n",
    "\n",
    "    train_loader = DataLoader(\n",
    "        dataset=train_set,\n",
    "        batch_size=B,\n",
    "        shuffle=True,\n",
    "        collate_fn=lambda batch: collate_fn(batch, K, R),\n",
    "    )\n",
    "\n",
    "    for epoch in range(E):\n",
    "        model.train()\n",
    "        running_loss = 0.0\n",
    "        epoch_loss = 0.0\n",
    "\n",
    "        for i, batch in enumerate(train_loader):\n",
    "            optimizer.zero_grad()\n",
    "\n",
    "            # Extract word_ids and contexts\n",
    "            w = batch[\"word_id\"].to(device)\n",
    "            Cplus = batch[\"positive_context_ids\"].to(device)\n",
    "            Cminus = batch[\"negative_context_ids\"].to(device)\n",
    "\n",
    "            # Forward pass\n",
    "            logits, labels = model(w, Cplus, Cminus)\n",
    "\n",
    "            # Compute loss\n",
    "            loss = F.binary_cross_entropy_with_logits(logits, labels)\n",
    "\n",
    "            # Backward pass and optimize\n",
    "            loss.backward()\n",
    "            optimizer.step()\n",
    "\n",
    "            # Track running loss\n",
    "            running_loss += loss.item()\n",
    "            epoch_loss += loss.item()\n",
    "\n",
    "            if i % 100 == 99:\n",
    "                print(\n",
    "                    f\"[Epoch {epoch + 1}, Batch {i + 1}] Loss: {running_loss / 100:.4f}\"\n",
    "                )\n",
    "                running_loss = 0.0\n",
    "\n",
    "        print(\n",
    "            f\"Epoch {epoch + 1}/{E} completed. Loss: {epoch_loss / len(train_loader):.4f}\"\n",
    "        )\n",
    "\n",
    "    print(\"Training completed.\")"
   ]
  },
  {
   "cell_type": "code",
   "execution_count": 23,
   "metadata": {
    "colab": {
     "base_uri": "https://localhost:8080/"
    },
    "executionInfo": {
     "elapsed": 231446,
     "status": "ok",
     "timestamp": 1729587138144,
     "user": {
      "displayName": "lucas #",
      "userId": "02174380894134051938"
     },
     "user_tz": -120
    },
    "id": "1CNNKtQGQ_DO",
    "outputId": "494d0d1a-69a7-4015-b85f-4becfa133f11"
   },
   "outputs": [
    {
     "name": "stdout",
     "output_type": "stream",
     "text": [
      "[Epoch 1, Batch 100] Loss: 3.5122\n",
      "[Epoch 1, Batch 200] Loss: 2.1799\n",
      "[Epoch 1, Batch 300] Loss: 1.4376\n",
      "[Epoch 1, Batch 400] Loss: 1.0825\n",
      "[Epoch 1, Batch 500] Loss: 0.9005\n",
      "[Epoch 1, Batch 600] Loss: 0.7652\n",
      "[Epoch 1, Batch 700] Loss: 0.6768\n",
      "[Epoch 1, Batch 800] Loss: 0.6126\n",
      "[Epoch 1, Batch 900] Loss: 0.5665\n",
      "[Epoch 1, Batch 1000] Loss: 0.5321\n",
      "[Epoch 1, Batch 1100] Loss: 0.5000\n",
      "[Epoch 1, Batch 1200] Loss: 0.4781\n",
      "[Epoch 1, Batch 1300] Loss: 0.4522\n",
      "[Epoch 1, Batch 1400] Loss: 0.4377\n",
      "[Epoch 1, Batch 1500] Loss: 0.4189\n",
      "Epoch 1/1 completed. Loss: 0.9630\n",
      "Training completed.\n"
     ]
    }
   ],
   "source": [
    "batch_size = 512\n",
    "epochs = 1\n",
    "embedding_dim = 128\n",
    "mymodel = Word2Vec(vocab_size, embedding_dim).to(device)\n",
    "\n",
    "train_model(mymodel, B=batch_size, E=epochs, train_set=train_set)"
   ]
  },
  {
   "cell_type": "code",
   "execution_count": 24,
   "metadata": {
    "executionInfo": {
     "elapsed": 10,
     "status": "ok",
     "timestamp": 1729587138144,
     "user": {
      "displayName": "lucas #",
      "userId": "02174380894134051938"
     },
     "user_tz": -120
    },
    "id": "GnniHeqUQ_DO"
   },
   "outputs": [],
   "source": [
    "def evaluate_model(model, batch_size):\n",
    "    model.eval()\n",
    "\n",
    "    val_loader = DataLoader(\n",
    "        dataset=valid_set,\n",
    "        batch_size=batch_size,\n",
    "        shuffle=False,\n",
    "        collate_fn=lambda batch: collate_fn(batch, K, R),\n",
    "    )\n",
    "\n",
    "    val_loss = 0.0\n",
    "    correct_predictions = 0\n",
    "    total_samples = 0\n",
    "\n",
    "    with torch.no_grad():\n",
    "        for batch in val_loader:\n",
    "            w = batch[\"word_id\"].to(device)\n",
    "            cplus = batch[\"positive_context_ids\"].to(device)\n",
    "            cminus = batch[\"negative_context_ids\"].to(device)\n",
    "\n",
    "            logits, labels = model(w, cplus, cminus)\n",
    "\n",
    "            # Compute loss without shuffling\n",
    "            loss = F.binary_cross_entropy_with_logits(logits, labels)\n",
    "            val_loss += loss.item()\n",
    "\n",
    "            # Use raw logits for predictions\n",
    "            predictions = (logits >= 0).float()\n",
    "            correct_predictions += (predictions == labels).sum().item()\n",
    "            total_samples += labels.numel()\n",
    "\n",
    "    avg_val_loss = val_loss / len(val_loader)\n",
    "    accuracy = correct_predictions / total_samples\n",
    "\n",
    "    print(f\"Validation Loss: {avg_val_loss:.4f}, Accuracy: {accuracy:.4f}\")"
   ]
  },
  {
   "cell_type": "code",
   "execution_count": 25,
   "metadata": {
    "colab": {
     "base_uri": "https://localhost:8080/"
    },
    "executionInfo": {
     "elapsed": 6798,
     "status": "ok",
     "timestamp": 1729587144934,
     "user": {
      "displayName": "lucas #",
      "userId": "02174380894134051938"
     },
     "user_tz": -120
    },
    "id": "hQfTtHQWQ_DO",
    "outputId": "94833e97-401f-4c24-a57f-02f304c571d5"
   },
   "outputs": [
    {
     "name": "stdout",
     "output_type": "stream",
     "text": [
      "Validation Loss: 0.4267, Accuracy: 0.8912\n"
     ]
    }
   ],
   "source": [
    "evaluate_model(mymodel, 512)"
   ]
  },
  {
   "cell_type": "code",
   "execution_count": 26,
   "metadata": {
    "executionInfo": {
     "elapsed": 6,
     "status": "ok",
     "timestamp": 1729587144934,
     "user": {
      "displayName": "lucas #",
      "userId": "02174380894134051938"
     },
     "user_tz": -120
    },
    "id": "-LY02oQNQ_DO"
   },
   "outputs": [],
   "source": [
    "def predict_middle_word(model, batch_size):\n",
    "    model.eval()\n",
    "    word_embeddings = model.Ew.weight.to(device)\n",
    "    Ec = model.Ec.to(device)\n",
    "    correct_predictions = 0.0\n",
    "    total_samples = 0.0\n",
    "\n",
    "    val_loader = DataLoader(\n",
    "        dataset=valid_set,\n",
    "        batch_size=batch_size,\n",
    "        shuffle=False,\n",
    "        collate_fn=lambda batch: collate_fn(batch, K, R),\n",
    "    )\n",
    "\n",
    "    with torch.no_grad():\n",
    "        for i, batch in enumerate(val_loader):\n",
    "            w = batch[\"word_id\"].to(device)\n",
    "            cplus = batch[\"positive_context_ids\"].to(device)\n",
    "            embedded_cplus = Ec(cplus)\n",
    "            mean_cplus = torch.mean(embedded_cplus, dim=1)\n",
    "            # print(\"Shape embeedded_cplus:\", embedded_cplus.shape,\"Shape mean_cplus:\", mean_cplus.shape,\"Shape word_embeddings:\", word_embeddings.shape)\n",
    "\n",
    "            # Normalize to ensure we compare directions of the vectors instead of raw magnitude\n",
    "            word_embeddings = F.normalize(word_embeddings, p=2, dim=1)\n",
    "            mean_cplus = F.normalize(mean_cplus, p=2, dim=1)\n",
    "            all_similarities = word_embeddings @ mean_cplus.T\n",
    "            # print(\"Shape all_similarities\", all_similarities.shape)\n",
    "            most_similar_words = torch.argmax(all_similarities, dim=0)\n",
    "            correct_predictions += (most_similar_words == w).sum().item()\n",
    "            total_samples += len(w)\n",
    "\n",
    "    accuracy = correct_predictions / total_samples\n",
    "    print(accuracy)"
   ]
  },
  {
   "cell_type": "code",
   "execution_count": null,
   "metadata": {
    "colab": {
     "background_save": true,
     "base_uri": "https://localhost:8080/"
    },
    "id": "fSjnWdqJQ_DP",
    "outputId": "b3693433-60a2-4066-cdb5-1904bd12c3b3"
   },
   "outputs": [
    {
     "name": "stdout",
     "output_type": "stream",
     "text": [
      "0.022758916971619934\n"
     ]
    }
   ],
   "source": [
    "# Print the accuracy of the model:\n",
    "predict_middle_word(mymodel, 256)"
   ]
  },
  {
   "cell_type": "code",
   "execution_count": null,
   "metadata": {
    "colab": {
     "background_save": true
    },
    "id": "FSVPx_SQQ_DP"
   },
   "outputs": [],
   "source": [
    "# Compare it to a random prediction:\n",
    "1 / tokenizer.vocab_size"
   ]
  },
  {
   "cell_type": "code",
   "execution_count": null,
   "metadata": {
    "colab": {
     "background_save": true
    },
    "id": "6USB6D0QQ_DP"
   },
   "outputs": [],
   "source": [
    "def save_model(model, d, R, K, B, E, directory=\".\"):\n",
    "    file_name = f\"model_dim-<{d}>_radius-<{R}>_ratio-<{K}>-batch-<{B}>-epoch-<{E}>.ckpt\"\n",
    "    file_path = f\"{directory}/{file_name}\"\n",
    "\n",
    "    embeddings = {\n",
    "        \"Ew\": model.Ew.weight.detach().cpu(),  # Word embeddings\n",
    "        \"Ec\": model.Ec.weight.detach().cpu(),  # Context embeddings\n",
    "    }\n",
    "\n",
    "    torch.save(embeddings, file_path)\n",
    "    print(f\"Model embeddings saved to {file_path}\")"
   ]
  },
  {
   "cell_type": "code",
   "execution_count": null,
   "metadata": {
    "colab": {
     "background_save": true
    },
    "id": "zppw439OQ_DP"
   },
   "outputs": [],
   "source": [
    "save_model(mymodel, embedding_dim, R, K, batch_size, epochs)"
   ]
  }
 ],
 "metadata": {
  "accelerator": "GPU",
  "colab": {
   "gpuType": "T4",
   "provenance": []
  },
  "kernelspec": {
   "display_name": "Python 3",
   "name": "python3"
  },
  "language_info": {
   "codemirror_mode": {
    "name": "ipython",
    "version": 3
   },
   "file_extension": ".py",
   "mimetype": "text/x-python",
   "name": "python",
   "nbconvert_exporter": "python",
   "pygments_lexer": "ipython3",
   "version": "3.11.10"
  },
  "toc": {
   "base_numbering": 1,
   "nav_menu": {},
   "number_sections": true,
   "sideBar": true,
   "skip_h1_title": false,
   "title_cell": "Table of Contents",
   "title_sidebar": "Contents",
   "toc_cell": false,
   "toc_position": {},
   "toc_section_display": true,
   "toc_window_display": false
  },
  "widgets": {
   "application/vnd.jupyter.widget-state+json": {
    "06e8b0054814460dbe2dc231d285785c": {
     "model_module": "@jupyter-widgets/controls",
     "model_module_version": "1.5.0",
     "model_name": "DescriptionStyleModel",
     "state": {
      "_model_module": "@jupyter-widgets/controls",
      "_model_module_version": "1.5.0",
      "_model_name": "DescriptionStyleModel",
      "_view_count": null,
      "_view_module": "@jupyter-widgets/base",
      "_view_module_version": "1.2.0",
      "_view_name": "StyleView",
      "description_width": ""
     }
    },
    "0c3898640ded4f4b8ed2ecf5a5dde962": {
     "model_module": "@jupyter-widgets/controls",
     "model_module_version": "1.5.0",
     "model_name": "DescriptionStyleModel",
     "state": {
      "_model_module": "@jupyter-widgets/controls",
      "_model_module_version": "1.5.0",
      "_model_name": "DescriptionStyleModel",
      "_view_count": null,
      "_view_module": "@jupyter-widgets/base",
      "_view_module_version": "1.2.0",
      "_view_name": "StyleView",
      "description_width": ""
     }
    },
    "127d1e99aca94a54a3b798640ed9e493": {
     "model_module": "@jupyter-widgets/base",
     "model_module_version": "1.2.0",
     "model_name": "LayoutModel",
     "state": {
      "_model_module": "@jupyter-widgets/base",
      "_model_module_version": "1.2.0",
      "_model_name": "LayoutModel",
      "_view_count": null,
      "_view_module": "@jupyter-widgets/base",
      "_view_module_version": "1.2.0",
      "_view_name": "LayoutView",
      "align_content": null,
      "align_items": null,
      "align_self": null,
      "border": null,
      "bottom": null,
      "display": null,
      "flex": null,
      "flex_flow": null,
      "grid_area": null,
      "grid_auto_columns": null,
      "grid_auto_flow": null,
      "grid_auto_rows": null,
      "grid_column": null,
      "grid_gap": null,
      "grid_row": null,
      "grid_template_areas": null,
      "grid_template_columns": null,
      "grid_template_rows": null,
      "height": null,
      "justify_content": null,
      "justify_items": null,
      "left": null,
      "margin": null,
      "max_height": null,
      "max_width": null,
      "min_height": null,
      "min_width": null,
      "object_fit": null,
      "object_position": null,
      "order": null,
      "overflow": null,
      "overflow_x": null,
      "overflow_y": null,
      "padding": null,
      "right": null,
      "top": null,
      "visibility": null,
      "width": null
     }
    },
    "13d0a1d98261466dbd00b93ed6c248a4": {
     "model_module": "@jupyter-widgets/controls",
     "model_module_version": "1.5.0",
     "model_name": "FloatProgressModel",
     "state": {
      "_dom_classes": [],
      "_model_module": "@jupyter-widgets/controls",
      "_model_module_version": "1.5.0",
      "_model_name": "FloatProgressModel",
      "_view_count": null,
      "_view_module": "@jupyter-widgets/controls",
      "_view_module_version": "1.5.0",
      "_view_name": "ProgressView",
      "bar_style": "success",
      "description": "",
      "description_tooltip": null,
      "layout": "IPY_MODEL_c74bce80495e41c382425436b50c09c0",
      "max": 66212309,
      "min": 0,
      "orientation": "horizontal",
      "style": "IPY_MODEL_2d1d7998aa034ea1852132588e9a7189",
      "value": 66212309
     }
    },
    "14df42286acd456dbbd40378cb2711ec": {
     "model_module": "@jupyter-widgets/base",
     "model_module_version": "1.2.0",
     "model_name": "LayoutModel",
     "state": {
      "_model_module": "@jupyter-widgets/base",
      "_model_module_version": "1.2.0",
      "_model_name": "LayoutModel",
      "_view_count": null,
      "_view_module": "@jupyter-widgets/base",
      "_view_module_version": "1.2.0",
      "_view_name": "LayoutView",
      "align_content": null,
      "align_items": null,
      "align_self": null,
      "border": null,
      "bottom": null,
      "display": null,
      "flex": null,
      "flex_flow": null,
      "grid_area": null,
      "grid_auto_columns": null,
      "grid_auto_flow": null,
      "grid_auto_rows": null,
      "grid_column": null,
      "grid_gap": null,
      "grid_row": null,
      "grid_template_areas": null,
      "grid_template_columns": null,
      "grid_template_rows": null,
      "height": null,
      "justify_content": null,
      "justify_items": null,
      "left": null,
      "margin": null,
      "max_height": null,
      "max_width": null,
      "min_height": null,
      "min_width": null,
      "object_fit": null,
      "object_position": null,
      "order": null,
      "overflow": null,
      "overflow_x": null,
      "overflow_y": null,
      "padding": null,
      "right": null,
      "top": null,
      "visibility": null,
      "width": null
     }
    },
    "1566b777574b49139d8e6e8662516a0e": {
     "model_module": "@jupyter-widgets/base",
     "model_module_version": "1.2.0",
     "model_name": "LayoutModel",
     "state": {
      "_model_module": "@jupyter-widgets/base",
      "_model_module_version": "1.2.0",
      "_model_name": "LayoutModel",
      "_view_count": null,
      "_view_module": "@jupyter-widgets/base",
      "_view_module_version": "1.2.0",
      "_view_name": "LayoutView",
      "align_content": null,
      "align_items": null,
      "align_self": null,
      "border": null,
      "bottom": null,
      "display": null,
      "flex": null,
      "flex_flow": null,
      "grid_area": null,
      "grid_auto_columns": null,
      "grid_auto_flow": null,
      "grid_auto_rows": null,
      "grid_column": null,
      "grid_gap": null,
      "grid_row": null,
      "grid_template_areas": null,
      "grid_template_columns": null,
      "grid_template_rows": null,
      "height": null,
      "justify_content": null,
      "justify_items": null,
      "left": null,
      "margin": null,
      "max_height": null,
      "max_width": null,
      "min_height": null,
      "min_width": null,
      "object_fit": null,
      "object_position": null,
      "order": null,
      "overflow": null,
      "overflow_x": null,
      "overflow_y": null,
      "padding": null,
      "right": null,
      "top": null,
      "visibility": null,
      "width": null
     }
    },
    "16a8f4bdc9ac455bba42a27f3b1de64e": {
     "model_module": "@jupyter-widgets/base",
     "model_module_version": "1.2.0",
     "model_name": "LayoutModel",
     "state": {
      "_model_module": "@jupyter-widgets/base",
      "_model_module_version": "1.2.0",
      "_model_name": "LayoutModel",
      "_view_count": null,
      "_view_module": "@jupyter-widgets/base",
      "_view_module_version": "1.2.0",
      "_view_name": "LayoutView",
      "align_content": null,
      "align_items": null,
      "align_self": null,
      "border": null,
      "bottom": null,
      "display": null,
      "flex": null,
      "flex_flow": null,
      "grid_area": null,
      "grid_auto_columns": null,
      "grid_auto_flow": null,
      "grid_auto_rows": null,
      "grid_column": null,
      "grid_gap": null,
      "grid_row": null,
      "grid_template_areas": null,
      "grid_template_columns": null,
      "grid_template_rows": null,
      "height": null,
      "justify_content": null,
      "justify_items": null,
      "left": null,
      "margin": null,
      "max_height": null,
      "max_width": null,
      "min_height": null,
      "min_width": null,
      "object_fit": null,
      "object_position": null,
      "order": null,
      "overflow": null,
      "overflow_x": null,
      "overflow_y": null,
      "padding": null,
      "right": null,
      "top": null,
      "visibility": null,
      "width": null
     }
    },
    "1a0de841c27241368a3c77920022e1fb": {
     "model_module": "@jupyter-widgets/controls",
     "model_module_version": "1.5.0",
     "model_name": "HTMLModel",
     "state": {
      "_dom_classes": [],
      "_model_module": "@jupyter-widgets/controls",
      "_model_module_version": "1.5.0",
      "_model_name": "HTMLModel",
      "_view_count": null,
      "_view_module": "@jupyter-widgets/controls",
      "_view_module_version": "1.5.0",
      "_view_name": "HTMLView",
      "description": "",
      "description_tooltip": null,
      "layout": "IPY_MODEL_6c63acfe75e846b1b6ed00e0d9e54005",
      "placeholder": "​",
      "style": "IPY_MODEL_9b4c8ab8c758423bb94b12d6830b13aa",
      "value": " 570/570 [00:00&lt;00:00, 6.19kB/s]"
     }
    },
    "1c59a25446c54a16add1b9b6f5aaf0fe": {
     "model_module": "@jupyter-widgets/controls",
     "model_module_version": "1.5.0",
     "model_name": "DescriptionStyleModel",
     "state": {
      "_model_module": "@jupyter-widgets/controls",
      "_model_module_version": "1.5.0",
      "_model_name": "DescriptionStyleModel",
      "_view_count": null,
      "_view_module": "@jupyter-widgets/base",
      "_view_module_version": "1.2.0",
      "_view_name": "StyleView",
      "description_width": ""
     }
    },
    "1c9ae535350943e7b3553ae9956d6382": {
     "model_module": "@jupyter-widgets/controls",
     "model_module_version": "1.5.0",
     "model_name": "HTMLModel",
     "state": {
      "_dom_classes": [],
      "_model_module": "@jupyter-widgets/controls",
      "_model_module_version": "1.5.0",
      "_model_name": "HTMLModel",
      "_view_count": null,
      "_view_module": "@jupyter-widgets/controls",
      "_view_module_version": "1.5.0",
      "_view_name": "HTMLView",
      "description": "",
      "description_tooltip": null,
      "layout": "IPY_MODEL_64647477fc25451ab8b27d9e44abdd19",
      "placeholder": "​",
      "style": "IPY_MODEL_3d1398ee090f4a638cecc8117a82e74c",
      "value": " 232k/232k [00:00&lt;00:00, 1.95MB/s]"
     }
    },
    "1de6994b5e444b7baa76fb569554e526": {
     "model_module": "@jupyter-widgets/controls",
     "model_module_version": "1.5.0",
     "model_name": "HBoxModel",
     "state": {
      "_dom_classes": [],
      "_model_module": "@jupyter-widgets/controls",
      "_model_module_version": "1.5.0",
      "_model_name": "HBoxModel",
      "_view_count": null,
      "_view_module": "@jupyter-widgets/controls",
      "_view_module_version": "1.5.0",
      "_view_name": "HBoxView",
      "box_style": "",
      "children": [
       "IPY_MODEL_dd08ca79f4e242ff8c9aaa0a12b5fb02",
       "IPY_MODEL_7ce92e85fc084f32be779fa32472702f",
       "IPY_MODEL_1c9ae535350943e7b3553ae9956d6382"
      ],
      "layout": "IPY_MODEL_e23c87d8a9034e54bd39f2d61957d400"
     }
    },
    "1f72ab724da9437c884a89f5421b9fbb": {
     "model_module": "@jupyter-widgets/controls",
     "model_module_version": "1.5.0",
     "model_name": "HBoxModel",
     "state": {
      "_dom_classes": [],
      "_model_module": "@jupyter-widgets/controls",
      "_model_module_version": "1.5.0",
      "_model_name": "HBoxModel",
      "_view_count": null,
      "_view_module": "@jupyter-widgets/controls",
      "_view_module_version": "1.5.0",
      "_view_name": "HBoxView",
      "box_style": "",
      "children": [
       "IPY_MODEL_c29f455a587d4a0887e4bdd7154a5687",
       "IPY_MODEL_8888a43c04864f0cb54889a8c1d3891b",
       "IPY_MODEL_1a0de841c27241368a3c77920022e1fb"
      ],
      "layout": "IPY_MODEL_ca3bda0d2e8b47c78f207903f357c6fd"
     }
    },
    "235ee5b96608432cbae497f7a6f95ef3": {
     "model_module": "@jupyter-widgets/controls",
     "model_module_version": "1.5.0",
     "model_name": "ProgressStyleModel",
     "state": {
      "_model_module": "@jupyter-widgets/controls",
      "_model_module_version": "1.5.0",
      "_model_name": "ProgressStyleModel",
      "_view_count": null,
      "_view_module": "@jupyter-widgets/base",
      "_view_module_version": "1.2.0",
      "_view_name": "StyleView",
      "bar_color": null,
      "description_width": ""
     }
    },
    "2adc75e7ebc942be93689eaae40b4bf8": {
     "model_module": "@jupyter-widgets/controls",
     "model_module_version": "1.5.0",
     "model_name": "DescriptionStyleModel",
     "state": {
      "_model_module": "@jupyter-widgets/controls",
      "_model_module_version": "1.5.0",
      "_model_name": "DescriptionStyleModel",
      "_view_count": null,
      "_view_module": "@jupyter-widgets/base",
      "_view_module_version": "1.2.0",
      "_view_name": "StyleView",
      "description_width": ""
     }
    },
    "2c0669c3b55249f19327c7d0f1ea13fe": {
     "model_module": "@jupyter-widgets/controls",
     "model_module_version": "1.5.0",
     "model_name": "HTMLModel",
     "state": {
      "_dom_classes": [],
      "_model_module": "@jupyter-widgets/controls",
      "_model_module_version": "1.5.0",
      "_model_name": "HTMLModel",
      "_view_count": null,
      "_view_module": "@jupyter-widgets/controls",
      "_view_module_version": "1.5.0",
      "_view_name": "HTMLView",
      "description": "",
      "description_tooltip": null,
      "layout": "IPY_MODEL_fe8bd8b7642d471082212a79fcc344f2",
      "placeholder": "​",
      "style": "IPY_MODEL_4ad7507bcee6422f93e1fac04280a89d",
      "value": "Generating train split: 100%"
     }
    },
    "2c2b3ba3f10543fca82f64cbb3699f5f": {
     "model_module": "@jupyter-widgets/base",
     "model_module_version": "1.2.0",
     "model_name": "LayoutModel",
     "state": {
      "_model_module": "@jupyter-widgets/base",
      "_model_module_version": "1.2.0",
      "_model_name": "LayoutModel",
      "_view_count": null,
      "_view_module": "@jupyter-widgets/base",
      "_view_module_version": "1.2.0",
      "_view_name": "LayoutView",
      "align_content": null,
      "align_items": null,
      "align_self": null,
      "border": null,
      "bottom": null,
      "display": null,
      "flex": null,
      "flex_flow": null,
      "grid_area": null,
      "grid_auto_columns": null,
      "grid_auto_flow": null,
      "grid_auto_rows": null,
      "grid_column": null,
      "grid_gap": null,
      "grid_row": null,
      "grid_template_areas": null,
      "grid_template_columns": null,
      "grid_template_rows": null,
      "height": null,
      "justify_content": null,
      "justify_items": null,
      "left": null,
      "margin": null,
      "max_height": null,
      "max_width": null,
      "min_height": null,
      "min_width": null,
      "object_fit": null,
      "object_position": null,
      "order": null,
      "overflow": null,
      "overflow_x": null,
      "overflow_y": null,
      "padding": null,
      "right": null,
      "top": null,
      "visibility": null,
      "width": null
     }
    },
    "2cbcdaf717c74ad18153e4f182a6f532": {
     "model_module": "@jupyter-widgets/controls",
     "model_module_version": "1.5.0",
     "model_name": "ProgressStyleModel",
     "state": {
      "_model_module": "@jupyter-widgets/controls",
      "_model_module_version": "1.5.0",
      "_model_name": "ProgressStyleModel",
      "_view_count": null,
      "_view_module": "@jupyter-widgets/base",
      "_view_module_version": "1.2.0",
      "_view_name": "StyleView",
      "bar_color": null,
      "description_width": ""
     }
    },
    "2d1d7998aa034ea1852132588e9a7189": {
     "model_module": "@jupyter-widgets/controls",
     "model_module_version": "1.5.0",
     "model_name": "ProgressStyleModel",
     "state": {
      "_model_module": "@jupyter-widgets/controls",
      "_model_module_version": "1.5.0",
      "_model_name": "ProgressStyleModel",
      "_view_count": null,
      "_view_module": "@jupyter-widgets/base",
      "_view_module_version": "1.2.0",
      "_view_name": "StyleView",
      "bar_color": null,
      "description_width": ""
     }
    },
    "2d9008bf95ce43a397c7f56f1146cb89": {
     "model_module": "@jupyter-widgets/controls",
     "model_module_version": "1.5.0",
     "model_name": "DescriptionStyleModel",
     "state": {
      "_model_module": "@jupyter-widgets/controls",
      "_model_module_version": "1.5.0",
      "_model_name": "DescriptionStyleModel",
      "_view_count": null,
      "_view_module": "@jupyter-widgets/base",
      "_view_module_version": "1.2.0",
      "_view_name": "StyleView",
      "description_width": ""
     }
    },
    "2f1cebcba0094c87bdf91314f92b108e": {
     "model_module": "@jupyter-widgets/controls",
     "model_module_version": "1.5.0",
     "model_name": "HBoxModel",
     "state": {
      "_dom_classes": [],
      "_model_module": "@jupyter-widgets/controls",
      "_model_module_version": "1.5.0",
      "_model_name": "HBoxModel",
      "_view_count": null,
      "_view_module": "@jupyter-widgets/controls",
      "_view_module_version": "1.5.0",
      "_view_name": "HBoxView",
      "box_style": "",
      "children": [
       "IPY_MODEL_c831fca47dcc4fc6aae1a133b8f43265",
       "IPY_MODEL_c011034ff39a4600aefa6833c6607cf1",
       "IPY_MODEL_7bc09658feba4948964edea0a782920e"
      ],
      "layout": "IPY_MODEL_42ef6239f571411abd20362b6497661b"
     }
    },
    "2fd6706b402f4e80bb2b66f991540ff4": {
     "model_module": "@jupyter-widgets/controls",
     "model_module_version": "1.5.0",
     "model_name": "HTMLModel",
     "state": {
      "_dom_classes": [],
      "_model_module": "@jupyter-widgets/controls",
      "_model_module_version": "1.5.0",
      "_model_name": "HTMLModel",
      "_view_count": null,
      "_view_module": "@jupyter-widgets/controls",
      "_view_module_version": "1.5.0",
      "_view_name": "HTMLView",
      "description": "",
      "description_tooltip": null,
      "layout": "IPY_MODEL_e7309a71c3c24720a032f2b73ae09125",
      "placeholder": "​",
      "style": "IPY_MODEL_2adc75e7ebc942be93689eaae40b4bf8",
      "value": "tokenizer_config.json: 100%"
     }
    },
    "3075ab7da84d47f49e0ed49eab349986": {
     "model_module": "@jupyter-widgets/controls",
     "model_module_version": "1.5.0",
     "model_name": "ProgressStyleModel",
     "state": {
      "_model_module": "@jupyter-widgets/controls",
      "_model_module_version": "1.5.0",
      "_model_name": "ProgressStyleModel",
      "_view_count": null,
      "_view_module": "@jupyter-widgets/base",
      "_view_module_version": "1.2.0",
      "_view_name": "StyleView",
      "bar_color": null,
      "description_width": ""
     }
    },
    "32e0e8c0d1e54f2cbd9dcea34d295797": {
     "model_module": "@jupyter-widgets/controls",
     "model_module_version": "1.5.0",
     "model_name": "HTMLModel",
     "state": {
      "_dom_classes": [],
      "_model_module": "@jupyter-widgets/controls",
      "_model_module_version": "1.5.0",
      "_model_name": "HTMLModel",
      "_view_count": null,
      "_view_module": "@jupyter-widgets/controls",
      "_view_module_version": "1.5.0",
      "_view_name": "HTMLView",
      "description": "",
      "description_tooltip": null,
      "layout": "IPY_MODEL_d95ee9b766284269931f429462b11f76",
      "placeholder": "​",
      "style": "IPY_MODEL_bebf8adb66344ee384ffdea5ab927b81",
      "value": " 50000/50000 [00:03&lt;00:00, 13173.30 examples/s]"
     }
    },
    "388e617852fa4937a8a0050760e8f4b6": {
     "model_module": "@jupyter-widgets/base",
     "model_module_version": "1.2.0",
     "model_name": "LayoutModel",
     "state": {
      "_model_module": "@jupyter-widgets/base",
      "_model_module_version": "1.2.0",
      "_model_name": "LayoutModel",
      "_view_count": null,
      "_view_module": "@jupyter-widgets/base",
      "_view_module_version": "1.2.0",
      "_view_name": "LayoutView",
      "align_content": null,
      "align_items": null,
      "align_self": null,
      "border": null,
      "bottom": null,
      "display": null,
      "flex": null,
      "flex_flow": null,
      "grid_area": null,
      "grid_auto_columns": null,
      "grid_auto_flow": null,
      "grid_auto_rows": null,
      "grid_column": null,
      "grid_gap": null,
      "grid_row": null,
      "grid_template_areas": null,
      "grid_template_columns": null,
      "grid_template_rows": null,
      "height": null,
      "justify_content": null,
      "justify_items": null,
      "left": null,
      "margin": null,
      "max_height": null,
      "max_width": null,
      "min_height": null,
      "min_width": null,
      "object_fit": null,
      "object_position": null,
      "order": null,
      "overflow": null,
      "overflow_x": null,
      "overflow_y": null,
      "padding": null,
      "right": null,
      "top": null,
      "visibility": null,
      "width": null
     }
    },
    "3d1398ee090f4a638cecc8117a82e74c": {
     "model_module": "@jupyter-widgets/controls",
     "model_module_version": "1.5.0",
     "model_name": "DescriptionStyleModel",
     "state": {
      "_model_module": "@jupyter-widgets/controls",
      "_model_module_version": "1.5.0",
      "_model_name": "DescriptionStyleModel",
      "_view_count": null,
      "_view_module": "@jupyter-widgets/base",
      "_view_module_version": "1.2.0",
      "_view_name": "StyleView",
      "description_width": ""
     }
    },
    "3f95fd48fdd04b04abac11dae2701980": {
     "model_module": "@jupyter-widgets/controls",
     "model_module_version": "1.5.0",
     "model_name": "DescriptionStyleModel",
     "state": {
      "_model_module": "@jupyter-widgets/controls",
      "_model_module_version": "1.5.0",
      "_model_name": "DescriptionStyleModel",
      "_view_count": null,
      "_view_module": "@jupyter-widgets/base",
      "_view_module_version": "1.2.0",
      "_view_name": "StyleView",
      "description_width": ""
     }
    },
    "4223c4c64f0149a7832b2a998fc7d3e8": {
     "model_module": "@jupyter-widgets/controls",
     "model_module_version": "1.5.0",
     "model_name": "HTMLModel",
     "state": {
      "_dom_classes": [],
      "_model_module": "@jupyter-widgets/controls",
      "_model_module_version": "1.5.0",
      "_model_name": "HTMLModel",
      "_view_count": null,
      "_view_module": "@jupyter-widgets/controls",
      "_view_module_version": "1.5.0",
      "_view_name": "HTMLView",
      "description": "",
      "description_tooltip": null,
      "layout": "IPY_MODEL_c3e821051b7c491f82f3c9c628d9fff1",
      "placeholder": "​",
      "style": "IPY_MODEL_2d9008bf95ce43a397c7f56f1146cb89",
      "value": " 466k/466k [00:00&lt;00:00, 3.41MB/s]"
     }
    },
    "424e74af8a7346dc9986e0ce4471cff0": {
     "model_module": "@jupyter-widgets/controls",
     "model_module_version": "1.5.0",
     "model_name": "HTMLModel",
     "state": {
      "_dom_classes": [],
      "_model_module": "@jupyter-widgets/controls",
      "_model_module_version": "1.5.0",
      "_model_name": "HTMLModel",
      "_view_count": null,
      "_view_module": "@jupyter-widgets/controls",
      "_view_module_version": "1.5.0",
      "_view_name": "HTMLView",
      "description": "",
      "description_tooltip": null,
      "layout": "IPY_MODEL_426b2b96af1a481f9c1f692db7eddc06",
      "placeholder": "​",
      "style": "IPY_MODEL_3f95fd48fdd04b04abac11dae2701980",
      "value": "IMDB Dataset.csv: 100%"
     }
    },
    "426b2b96af1a481f9c1f692db7eddc06": {
     "model_module": "@jupyter-widgets/base",
     "model_module_version": "1.2.0",
     "model_name": "LayoutModel",
     "state": {
      "_model_module": "@jupyter-widgets/base",
      "_model_module_version": "1.2.0",
      "_model_name": "LayoutModel",
      "_view_count": null,
      "_view_module": "@jupyter-widgets/base",
      "_view_module_version": "1.2.0",
      "_view_name": "LayoutView",
      "align_content": null,
      "align_items": null,
      "align_self": null,
      "border": null,
      "bottom": null,
      "display": null,
      "flex": null,
      "flex_flow": null,
      "grid_area": null,
      "grid_auto_columns": null,
      "grid_auto_flow": null,
      "grid_auto_rows": null,
      "grid_column": null,
      "grid_gap": null,
      "grid_row": null,
      "grid_template_areas": null,
      "grid_template_columns": null,
      "grid_template_rows": null,
      "height": null,
      "justify_content": null,
      "justify_items": null,
      "left": null,
      "margin": null,
      "max_height": null,
      "max_width": null,
      "min_height": null,
      "min_width": null,
      "object_fit": null,
      "object_position": null,
      "order": null,
      "overflow": null,
      "overflow_x": null,
      "overflow_y": null,
      "padding": null,
      "right": null,
      "top": null,
      "visibility": null,
      "width": null
     }
    },
    "42ef6239f571411abd20362b6497661b": {
     "model_module": "@jupyter-widgets/base",
     "model_module_version": "1.2.0",
     "model_name": "LayoutModel",
     "state": {
      "_model_module": "@jupyter-widgets/base",
      "_model_module_version": "1.2.0",
      "_model_name": "LayoutModel",
      "_view_count": null,
      "_view_module": "@jupyter-widgets/base",
      "_view_module_version": "1.2.0",
      "_view_name": "LayoutView",
      "align_content": null,
      "align_items": null,
      "align_self": null,
      "border": null,
      "bottom": null,
      "display": null,
      "flex": null,
      "flex_flow": null,
      "grid_area": null,
      "grid_auto_columns": null,
      "grid_auto_flow": null,
      "grid_auto_rows": null,
      "grid_column": null,
      "grid_gap": null,
      "grid_row": null,
      "grid_template_areas": null,
      "grid_template_columns": null,
      "grid_template_rows": null,
      "height": null,
      "justify_content": null,
      "justify_items": null,
      "left": null,
      "margin": null,
      "max_height": null,
      "max_width": null,
      "min_height": null,
      "min_width": null,
      "object_fit": null,
      "object_position": null,
      "order": null,
      "overflow": null,
      "overflow_x": null,
      "overflow_y": null,
      "padding": null,
      "right": null,
      "top": null,
      "visibility": null,
      "width": null
     }
    },
    "4401c3a9872e4a2a9341b8b5bb60a8ae": {
     "model_module": "@jupyter-widgets/controls",
     "model_module_version": "1.5.0",
     "model_name": "HTMLModel",
     "state": {
      "_dom_classes": [],
      "_model_module": "@jupyter-widgets/controls",
      "_model_module_version": "1.5.0",
      "_model_name": "HTMLModel",
      "_view_count": null,
      "_view_module": "@jupyter-widgets/controls",
      "_view_module_version": "1.5.0",
      "_view_name": "HTMLView",
      "description": "",
      "description_tooltip": null,
      "layout": "IPY_MODEL_16a8f4bdc9ac455bba42a27f3b1de64e",
      "placeholder": "​",
      "style": "IPY_MODEL_c3039da886594d569e745b0f7b59d4fa",
      "value": "README.md: 100%"
     }
    },
    "4948e33aca9240eb8035f0020c6a2f76": {
     "model_module": "@jupyter-widgets/controls",
     "model_module_version": "1.5.0",
     "model_name": "ProgressStyleModel",
     "state": {
      "_model_module": "@jupyter-widgets/controls",
      "_model_module_version": "1.5.0",
      "_model_name": "ProgressStyleModel",
      "_view_count": null,
      "_view_module": "@jupyter-widgets/base",
      "_view_module_version": "1.2.0",
      "_view_name": "StyleView",
      "bar_color": null,
      "description_width": ""
     }
    },
    "4a6fd1919ef04cfcb60bd5eac25ec10e": {
     "model_module": "@jupyter-widgets/controls",
     "model_module_version": "1.5.0",
     "model_name": "HBoxModel",
     "state": {
      "_dom_classes": [],
      "_model_module": "@jupyter-widgets/controls",
      "_model_module_version": "1.5.0",
      "_model_name": "HBoxModel",
      "_view_count": null,
      "_view_module": "@jupyter-widgets/controls",
      "_view_module_version": "1.5.0",
      "_view_name": "HBoxView",
      "box_style": "",
      "children": [
       "IPY_MODEL_2c0669c3b55249f19327c7d0f1ea13fe",
       "IPY_MODEL_74f8f1561222424f86bebb837b80a1b7",
       "IPY_MODEL_32e0e8c0d1e54f2cbd9dcea34d295797"
      ],
      "layout": "IPY_MODEL_9a9bae9c3d9a472e9ec77b9e8cb8bcd0"
     }
    },
    "4ad7507bcee6422f93e1fac04280a89d": {
     "model_module": "@jupyter-widgets/controls",
     "model_module_version": "1.5.0",
     "model_name": "DescriptionStyleModel",
     "state": {
      "_model_module": "@jupyter-widgets/controls",
      "_model_module_version": "1.5.0",
      "_model_name": "DescriptionStyleModel",
      "_view_count": null,
      "_view_module": "@jupyter-widgets/base",
      "_view_module_version": "1.2.0",
      "_view_name": "StyleView",
      "description_width": ""
     }
    },
    "4ba951d4f6d34187b61a9e1625d0ed31": {
     "model_module": "@jupyter-widgets/base",
     "model_module_version": "1.2.0",
     "model_name": "LayoutModel",
     "state": {
      "_model_module": "@jupyter-widgets/base",
      "_model_module_version": "1.2.0",
      "_model_name": "LayoutModel",
      "_view_count": null,
      "_view_module": "@jupyter-widgets/base",
      "_view_module_version": "1.2.0",
      "_view_name": "LayoutView",
      "align_content": null,
      "align_items": null,
      "align_self": null,
      "border": null,
      "bottom": null,
      "display": null,
      "flex": null,
      "flex_flow": null,
      "grid_area": null,
      "grid_auto_columns": null,
      "grid_auto_flow": null,
      "grid_auto_rows": null,
      "grid_column": null,
      "grid_gap": null,
      "grid_row": null,
      "grid_template_areas": null,
      "grid_template_columns": null,
      "grid_template_rows": null,
      "height": null,
      "justify_content": null,
      "justify_items": null,
      "left": null,
      "margin": null,
      "max_height": null,
      "max_width": null,
      "min_height": null,
      "min_width": null,
      "object_fit": null,
      "object_position": null,
      "order": null,
      "overflow": null,
      "overflow_x": null,
      "overflow_y": null,
      "padding": null,
      "right": null,
      "top": null,
      "visibility": null,
      "width": null
     }
    },
    "4ecfc35fe83a491397940ba3adc747a4": {
     "model_module": "@jupyter-widgets/controls",
     "model_module_version": "1.5.0",
     "model_name": "HTMLModel",
     "state": {
      "_dom_classes": [],
      "_model_module": "@jupyter-widgets/controls",
      "_model_module_version": "1.5.0",
      "_model_name": "HTMLModel",
      "_view_count": null,
      "_view_module": "@jupyter-widgets/controls",
      "_view_module_version": "1.5.0",
      "_view_name": "HTMLView",
      "description": "",
      "description_tooltip": null,
      "layout": "IPY_MODEL_af4cfa61ecbd4d6695e86d71a7a8deeb",
      "placeholder": "​",
      "style": "IPY_MODEL_f581e45cec0349bd93769e8fa731b81b",
      "value": " 1.22k/1.22k [00:00&lt;00:00, 18.0kB/s]"
     }
    },
    "557ba0a74fb84b41b4ff9e2a929a3170": {
     "model_module": "@jupyter-widgets/base",
     "model_module_version": "1.2.0",
     "model_name": "LayoutModel",
     "state": {
      "_model_module": "@jupyter-widgets/base",
      "_model_module_version": "1.2.0",
      "_model_name": "LayoutModel",
      "_view_count": null,
      "_view_module": "@jupyter-widgets/base",
      "_view_module_version": "1.2.0",
      "_view_name": "LayoutView",
      "align_content": null,
      "align_items": null,
      "align_self": null,
      "border": null,
      "bottom": null,
      "display": null,
      "flex": null,
      "flex_flow": null,
      "grid_area": null,
      "grid_auto_columns": null,
      "grid_auto_flow": null,
      "grid_auto_rows": null,
      "grid_column": null,
      "grid_gap": null,
      "grid_row": null,
      "grid_template_areas": null,
      "grid_template_columns": null,
      "grid_template_rows": null,
      "height": null,
      "justify_content": null,
      "justify_items": null,
      "left": null,
      "margin": null,
      "max_height": null,
      "max_width": null,
      "min_height": null,
      "min_width": null,
      "object_fit": null,
      "object_position": null,
      "order": null,
      "overflow": null,
      "overflow_x": null,
      "overflow_y": null,
      "padding": null,
      "right": null,
      "top": null,
      "visibility": null,
      "width": null
     }
    },
    "574acdd9dfa6456d9a11f4040534bb59": {
     "model_module": "@jupyter-widgets/controls",
     "model_module_version": "1.5.0",
     "model_name": "ProgressStyleModel",
     "state": {
      "_model_module": "@jupyter-widgets/controls",
      "_model_module_version": "1.5.0",
      "_model_name": "ProgressStyleModel",
      "_view_count": null,
      "_view_module": "@jupyter-widgets/base",
      "_view_module_version": "1.2.0",
      "_view_name": "StyleView",
      "bar_color": null,
      "description_width": ""
     }
    },
    "5db7c05f160a4743970f657388955efd": {
     "model_module": "@jupyter-widgets/controls",
     "model_module_version": "1.5.0",
     "model_name": "DescriptionStyleModel",
     "state": {
      "_model_module": "@jupyter-widgets/controls",
      "_model_module_version": "1.5.0",
      "_model_name": "DescriptionStyleModel",
      "_view_count": null,
      "_view_module": "@jupyter-widgets/base",
      "_view_module_version": "1.2.0",
      "_view_name": "StyleView",
      "description_width": ""
     }
    },
    "64647477fc25451ab8b27d9e44abdd19": {
     "model_module": "@jupyter-widgets/base",
     "model_module_version": "1.2.0",
     "model_name": "LayoutModel",
     "state": {
      "_model_module": "@jupyter-widgets/base",
      "_model_module_version": "1.2.0",
      "_model_name": "LayoutModel",
      "_view_count": null,
      "_view_module": "@jupyter-widgets/base",
      "_view_module_version": "1.2.0",
      "_view_name": "LayoutView",
      "align_content": null,
      "align_items": null,
      "align_self": null,
      "border": null,
      "bottom": null,
      "display": null,
      "flex": null,
      "flex_flow": null,
      "grid_area": null,
      "grid_auto_columns": null,
      "grid_auto_flow": null,
      "grid_auto_rows": null,
      "grid_column": null,
      "grid_gap": null,
      "grid_row": null,
      "grid_template_areas": null,
      "grid_template_columns": null,
      "grid_template_rows": null,
      "height": null,
      "justify_content": null,
      "justify_items": null,
      "left": null,
      "margin": null,
      "max_height": null,
      "max_width": null,
      "min_height": null,
      "min_width": null,
      "object_fit": null,
      "object_position": null,
      "order": null,
      "overflow": null,
      "overflow_x": null,
      "overflow_y": null,
      "padding": null,
      "right": null,
      "top": null,
      "visibility": null,
      "width": null
     }
    },
    "65355c76a6a44d36925328569b56f844": {
     "model_module": "@jupyter-widgets/base",
     "model_module_version": "1.2.0",
     "model_name": "LayoutModel",
     "state": {
      "_model_module": "@jupyter-widgets/base",
      "_model_module_version": "1.2.0",
      "_model_name": "LayoutModel",
      "_view_count": null,
      "_view_module": "@jupyter-widgets/base",
      "_view_module_version": "1.2.0",
      "_view_name": "LayoutView",
      "align_content": null,
      "align_items": null,
      "align_self": null,
      "border": null,
      "bottom": null,
      "display": null,
      "flex": null,
      "flex_flow": null,
      "grid_area": null,
      "grid_auto_columns": null,
      "grid_auto_flow": null,
      "grid_auto_rows": null,
      "grid_column": null,
      "grid_gap": null,
      "grid_row": null,
      "grid_template_areas": null,
      "grid_template_columns": null,
      "grid_template_rows": null,
      "height": null,
      "justify_content": null,
      "justify_items": null,
      "left": null,
      "margin": null,
      "max_height": null,
      "max_width": null,
      "min_height": null,
      "min_width": null,
      "object_fit": null,
      "object_position": null,
      "order": null,
      "overflow": null,
      "overflow_x": null,
      "overflow_y": null,
      "padding": null,
      "right": null,
      "top": null,
      "visibility": null,
      "width": null
     }
    },
    "667f58b3ccdc46a1bb517d2566a283a2": {
     "model_module": "@jupyter-widgets/controls",
     "model_module_version": "1.5.0",
     "model_name": "FloatProgressModel",
     "state": {
      "_dom_classes": [],
      "_model_module": "@jupyter-widgets/controls",
      "_model_module_version": "1.5.0",
      "_model_name": "FloatProgressModel",
      "_view_count": null,
      "_view_module": "@jupyter-widgets/controls",
      "_view_module_version": "1.5.0",
      "_view_name": "ProgressView",
      "bar_style": "success",
      "description": "",
      "description_tooltip": null,
      "layout": "IPY_MODEL_9e678115032b487ea7496fca877f1e3d",
      "max": 1222,
      "min": 0,
      "orientation": "horizontal",
      "style": "IPY_MODEL_235ee5b96608432cbae497f7a6f95ef3",
      "value": 1222
     }
    },
    "6c63acfe75e846b1b6ed00e0d9e54005": {
     "model_module": "@jupyter-widgets/base",
     "model_module_version": "1.2.0",
     "model_name": "LayoutModel",
     "state": {
      "_model_module": "@jupyter-widgets/base",
      "_model_module_version": "1.2.0",
      "_model_name": "LayoutModel",
      "_view_count": null,
      "_view_module": "@jupyter-widgets/base",
      "_view_module_version": "1.2.0",
      "_view_name": "LayoutView",
      "align_content": null,
      "align_items": null,
      "align_self": null,
      "border": null,
      "bottom": null,
      "display": null,
      "flex": null,
      "flex_flow": null,
      "grid_area": null,
      "grid_auto_columns": null,
      "grid_auto_flow": null,
      "grid_auto_rows": null,
      "grid_column": null,
      "grid_gap": null,
      "grid_row": null,
      "grid_template_areas": null,
      "grid_template_columns": null,
      "grid_template_rows": null,
      "height": null,
      "justify_content": null,
      "justify_items": null,
      "left": null,
      "margin": null,
      "max_height": null,
      "max_width": null,
      "min_height": null,
      "min_width": null,
      "object_fit": null,
      "object_position": null,
      "order": null,
      "overflow": null,
      "overflow_x": null,
      "overflow_y": null,
      "padding": null,
      "right": null,
      "top": null,
      "visibility": null,
      "width": null
     }
    },
    "7376f24dd7f3472195ea38d5882fffa8": {
     "model_module": "@jupyter-widgets/base",
     "model_module_version": "1.2.0",
     "model_name": "LayoutModel",
     "state": {
      "_model_module": "@jupyter-widgets/base",
      "_model_module_version": "1.2.0",
      "_model_name": "LayoutModel",
      "_view_count": null,
      "_view_module": "@jupyter-widgets/base",
      "_view_module_version": "1.2.0",
      "_view_name": "LayoutView",
      "align_content": null,
      "align_items": null,
      "align_self": null,
      "border": null,
      "bottom": null,
      "display": null,
      "flex": null,
      "flex_flow": null,
      "grid_area": null,
      "grid_auto_columns": null,
      "grid_auto_flow": null,
      "grid_auto_rows": null,
      "grid_column": null,
      "grid_gap": null,
      "grid_row": null,
      "grid_template_areas": null,
      "grid_template_columns": null,
      "grid_template_rows": null,
      "height": null,
      "justify_content": null,
      "justify_items": null,
      "left": null,
      "margin": null,
      "max_height": null,
      "max_width": null,
      "min_height": null,
      "min_width": null,
      "object_fit": null,
      "object_position": null,
      "order": null,
      "overflow": null,
      "overflow_x": null,
      "overflow_y": null,
      "padding": null,
      "right": null,
      "top": null,
      "visibility": null,
      "width": null
     }
    },
    "74f8f1561222424f86bebb837b80a1b7": {
     "model_module": "@jupyter-widgets/controls",
     "model_module_version": "1.5.0",
     "model_name": "FloatProgressModel",
     "state": {
      "_dom_classes": [],
      "_model_module": "@jupyter-widgets/controls",
      "_model_module_version": "1.5.0",
      "_model_name": "FloatProgressModel",
      "_view_count": null,
      "_view_module": "@jupyter-widgets/controls",
      "_view_module_version": "1.5.0",
      "_view_name": "ProgressView",
      "bar_style": "success",
      "description": "",
      "description_tooltip": null,
      "layout": "IPY_MODEL_14df42286acd456dbbd40378cb2711ec",
      "max": 50000,
      "min": 0,
      "orientation": "horizontal",
      "style": "IPY_MODEL_4948e33aca9240eb8035f0020c6a2f76",
      "value": 50000
     }
    },
    "7bc09658feba4948964edea0a782920e": {
     "model_module": "@jupyter-widgets/controls",
     "model_module_version": "1.5.0",
     "model_name": "HTMLModel",
     "state": {
      "_dom_classes": [],
      "_model_module": "@jupyter-widgets/controls",
      "_model_module_version": "1.5.0",
      "_model_name": "HTMLModel",
      "_view_count": null,
      "_view_module": "@jupyter-widgets/controls",
      "_view_module_version": "1.5.0",
      "_view_name": "HTMLView",
      "description": "",
      "description_tooltip": null,
      "layout": "IPY_MODEL_d6b86b15ea6f470f942c9842f9e4f78d",
      "placeholder": "​",
      "style": "IPY_MODEL_aa683de3af6d42bfbb2748a5f082b888",
      "value": " 5000/5000 [00:46&lt;00:00, 153.63 examples/s]"
     }
    },
    "7ce92e85fc084f32be779fa32472702f": {
     "model_module": "@jupyter-widgets/controls",
     "model_module_version": "1.5.0",
     "model_name": "FloatProgressModel",
     "state": {
      "_dom_classes": [],
      "_model_module": "@jupyter-widgets/controls",
      "_model_module_version": "1.5.0",
      "_model_name": "FloatProgressModel",
      "_view_count": null,
      "_view_module": "@jupyter-widgets/controls",
      "_view_module_version": "1.5.0",
      "_view_name": "ProgressView",
      "bar_style": "success",
      "description": "",
      "description_tooltip": null,
      "layout": "IPY_MODEL_7376f24dd7f3472195ea38d5882fffa8",
      "max": 231508,
      "min": 0,
      "orientation": "horizontal",
      "style": "IPY_MODEL_2cbcdaf717c74ad18153e4f182a6f532",
      "value": 231508
     }
    },
    "7eeddcee8a9b472db0180de2170ad862": {
     "model_module": "@jupyter-widgets/controls",
     "model_module_version": "1.5.0",
     "model_name": "ProgressStyleModel",
     "state": {
      "_model_module": "@jupyter-widgets/controls",
      "_model_module_version": "1.5.0",
      "_model_name": "ProgressStyleModel",
      "_view_count": null,
      "_view_module": "@jupyter-widgets/base",
      "_view_module_version": "1.2.0",
      "_view_name": "StyleView",
      "bar_color": null,
      "description_width": ""
     }
    },
    "811f4c8dc36e43fa8aa0c9a32706c5f0": {
     "model_module": "@jupyter-widgets/controls",
     "model_module_version": "1.5.0",
     "model_name": "HBoxModel",
     "state": {
      "_dom_classes": [],
      "_model_module": "@jupyter-widgets/controls",
      "_model_module_version": "1.5.0",
      "_model_name": "HBoxModel",
      "_view_count": null,
      "_view_module": "@jupyter-widgets/controls",
      "_view_module_version": "1.5.0",
      "_view_name": "HBoxView",
      "box_style": "",
      "children": [
       "IPY_MODEL_9fc1a24d83aa4e33a44d4cb38cae64b5",
       "IPY_MODEL_86d825933d2f43728c5c916daed69667",
       "IPY_MODEL_4223c4c64f0149a7832b2a998fc7d3e8"
      ],
      "layout": "IPY_MODEL_9e2e09c7ce5e492ab90044c0d18d1550"
     }
    },
    "857a0b01373a4f38a2712c6331504619": {
     "model_module": "@jupyter-widgets/controls",
     "model_module_version": "1.5.0",
     "model_name": "ProgressStyleModel",
     "state": {
      "_model_module": "@jupyter-widgets/controls",
      "_model_module_version": "1.5.0",
      "_model_name": "ProgressStyleModel",
      "_view_count": null,
      "_view_module": "@jupyter-widgets/base",
      "_view_module_version": "1.2.0",
      "_view_name": "StyleView",
      "bar_color": null,
      "description_width": ""
     }
    },
    "863aff9f887841ca8439859337747d1e": {
     "model_module": "@jupyter-widgets/controls",
     "model_module_version": "1.5.0",
     "model_name": "HBoxModel",
     "state": {
      "_dom_classes": [],
      "_model_module": "@jupyter-widgets/controls",
      "_model_module_version": "1.5.0",
      "_model_name": "HBoxModel",
      "_view_count": null,
      "_view_module": "@jupyter-widgets/controls",
      "_view_module_version": "1.5.0",
      "_view_name": "HBoxView",
      "box_style": "",
      "children": [
       "IPY_MODEL_4401c3a9872e4a2a9341b8b5bb60a8ae",
       "IPY_MODEL_667f58b3ccdc46a1bb517d2566a283a2",
       "IPY_MODEL_4ecfc35fe83a491397940ba3adc747a4"
      ],
      "layout": "IPY_MODEL_4ba951d4f6d34187b61a9e1625d0ed31"
     }
    },
    "86d825933d2f43728c5c916daed69667": {
     "model_module": "@jupyter-widgets/controls",
     "model_module_version": "1.5.0",
     "model_name": "FloatProgressModel",
     "state": {
      "_dom_classes": [],
      "_model_module": "@jupyter-widgets/controls",
      "_model_module_version": "1.5.0",
      "_model_name": "FloatProgressModel",
      "_view_count": null,
      "_view_module": "@jupyter-widgets/controls",
      "_view_module_version": "1.5.0",
      "_view_name": "ProgressView",
      "bar_style": "success",
      "description": "",
      "description_tooltip": null,
      "layout": "IPY_MODEL_2c2b3ba3f10543fca82f64cbb3699f5f",
      "max": 466062,
      "min": 0,
      "orientation": "horizontal",
      "style": "IPY_MODEL_7eeddcee8a9b472db0180de2170ad862",
      "value": 466062
     }
    },
    "8888a43c04864f0cb54889a8c1d3891b": {
     "model_module": "@jupyter-widgets/controls",
     "model_module_version": "1.5.0",
     "model_name": "FloatProgressModel",
     "state": {
      "_dom_classes": [],
      "_model_module": "@jupyter-widgets/controls",
      "_model_module_version": "1.5.0",
      "_model_name": "FloatProgressModel",
      "_view_count": null,
      "_view_module": "@jupyter-widgets/controls",
      "_view_module_version": "1.5.0",
      "_view_name": "ProgressView",
      "bar_style": "success",
      "description": "",
      "description_tooltip": null,
      "layout": "IPY_MODEL_388e617852fa4937a8a0050760e8f4b6",
      "max": 570,
      "min": 0,
      "orientation": "horizontal",
      "style": "IPY_MODEL_574acdd9dfa6456d9a11f4040534bb59",
      "value": 570
     }
    },
    "8fc19e8e1f7543439beacb4ccf38df5d": {
     "model_module": "@jupyter-widgets/controls",
     "model_module_version": "1.5.0",
     "model_name": "FloatProgressModel",
     "state": {
      "_dom_classes": [],
      "_model_module": "@jupyter-widgets/controls",
      "_model_module_version": "1.5.0",
      "_model_name": "FloatProgressModel",
      "_view_count": null,
      "_view_module": "@jupyter-widgets/controls",
      "_view_module_version": "1.5.0",
      "_view_name": "ProgressView",
      "bar_style": "success",
      "description": "",
      "description_tooltip": null,
      "layout": "IPY_MODEL_ac8b8cf885d74b358d0e8626ee8f018c",
      "max": 48,
      "min": 0,
      "orientation": "horizontal",
      "style": "IPY_MODEL_3075ab7da84d47f49e0ed49eab349986",
      "value": 48
     }
    },
    "8fda65cc8a974bfca11c5616ea17be5c": {
     "model_module": "@jupyter-widgets/controls",
     "model_module_version": "1.5.0",
     "model_name": "DescriptionStyleModel",
     "state": {
      "_model_module": "@jupyter-widgets/controls",
      "_model_module_version": "1.5.0",
      "_model_name": "DescriptionStyleModel",
      "_view_count": null,
      "_view_module": "@jupyter-widgets/base",
      "_view_module_version": "1.2.0",
      "_view_name": "StyleView",
      "description_width": ""
     }
    },
    "918f0f89ef944a67920379ecc8ddbe87": {
     "model_module": "@jupyter-widgets/base",
     "model_module_version": "1.2.0",
     "model_name": "LayoutModel",
     "state": {
      "_model_module": "@jupyter-widgets/base",
      "_model_module_version": "1.2.0",
      "_model_name": "LayoutModel",
      "_view_count": null,
      "_view_module": "@jupyter-widgets/base",
      "_view_module_version": "1.2.0",
      "_view_name": "LayoutView",
      "align_content": null,
      "align_items": null,
      "align_self": null,
      "border": null,
      "bottom": null,
      "display": null,
      "flex": null,
      "flex_flow": null,
      "grid_area": null,
      "grid_auto_columns": null,
      "grid_auto_flow": null,
      "grid_auto_rows": null,
      "grid_column": null,
      "grid_gap": null,
      "grid_row": null,
      "grid_template_areas": null,
      "grid_template_columns": null,
      "grid_template_rows": null,
      "height": null,
      "justify_content": null,
      "justify_items": null,
      "left": null,
      "margin": null,
      "max_height": null,
      "max_width": null,
      "min_height": null,
      "min_width": null,
      "object_fit": null,
      "object_position": null,
      "order": null,
      "overflow": null,
      "overflow_x": null,
      "overflow_y": null,
      "padding": null,
      "right": null,
      "top": null,
      "visibility": null,
      "width": null
     }
    },
    "91ddadd1973f4bc4bf96d2a3c0759f31": {
     "model_module": "@jupyter-widgets/controls",
     "model_module_version": "1.5.0",
     "model_name": "HBoxModel",
     "state": {
      "_dom_classes": [],
      "_model_module": "@jupyter-widgets/controls",
      "_model_module_version": "1.5.0",
      "_model_name": "HBoxModel",
      "_view_count": null,
      "_view_module": "@jupyter-widgets/controls",
      "_view_module_version": "1.5.0",
      "_view_name": "HBoxView",
      "box_style": "",
      "children": [
       "IPY_MODEL_2fd6706b402f4e80bb2b66f991540ff4",
       "IPY_MODEL_8fc19e8e1f7543439beacb4ccf38df5d",
       "IPY_MODEL_b26c1a566b3c41748e1bf772ee6244ec"
      ],
      "layout": "IPY_MODEL_918f0f89ef944a67920379ecc8ddbe87"
     }
    },
    "9801ec7b025b496bbbab2a02d157cf28": {
     "model_module": "@jupyter-widgets/base",
     "model_module_version": "1.2.0",
     "model_name": "LayoutModel",
     "state": {
      "_model_module": "@jupyter-widgets/base",
      "_model_module_version": "1.2.0",
      "_model_name": "LayoutModel",
      "_view_count": null,
      "_view_module": "@jupyter-widgets/base",
      "_view_module_version": "1.2.0",
      "_view_name": "LayoutView",
      "align_content": null,
      "align_items": null,
      "align_self": null,
      "border": null,
      "bottom": null,
      "display": null,
      "flex": null,
      "flex_flow": null,
      "grid_area": null,
      "grid_auto_columns": null,
      "grid_auto_flow": null,
      "grid_auto_rows": null,
      "grid_column": null,
      "grid_gap": null,
      "grid_row": null,
      "grid_template_areas": null,
      "grid_template_columns": null,
      "grid_template_rows": null,
      "height": null,
      "justify_content": null,
      "justify_items": null,
      "left": null,
      "margin": null,
      "max_height": null,
      "max_width": null,
      "min_height": null,
      "min_width": null,
      "object_fit": null,
      "object_position": null,
      "order": null,
      "overflow": null,
      "overflow_x": null,
      "overflow_y": null,
      "padding": null,
      "right": null,
      "top": null,
      "visibility": null,
      "width": null
     }
    },
    "995ecc602fd545d4946d32c6b9dd1bd0": {
     "model_module": "@jupyter-widgets/base",
     "model_module_version": "1.2.0",
     "model_name": "LayoutModel",
     "state": {
      "_model_module": "@jupyter-widgets/base",
      "_model_module_version": "1.2.0",
      "_model_name": "LayoutModel",
      "_view_count": null,
      "_view_module": "@jupyter-widgets/base",
      "_view_module_version": "1.2.0",
      "_view_name": "LayoutView",
      "align_content": null,
      "align_items": null,
      "align_self": null,
      "border": null,
      "bottom": null,
      "display": null,
      "flex": null,
      "flex_flow": null,
      "grid_area": null,
      "grid_auto_columns": null,
      "grid_auto_flow": null,
      "grid_auto_rows": null,
      "grid_column": null,
      "grid_gap": null,
      "grid_row": null,
      "grid_template_areas": null,
      "grid_template_columns": null,
      "grid_template_rows": null,
      "height": null,
      "justify_content": null,
      "justify_items": null,
      "left": null,
      "margin": null,
      "max_height": null,
      "max_width": null,
      "min_height": null,
      "min_width": null,
      "object_fit": null,
      "object_position": null,
      "order": null,
      "overflow": null,
      "overflow_x": null,
      "overflow_y": null,
      "padding": null,
      "right": null,
      "top": null,
      "visibility": null,
      "width": null
     }
    },
    "9a9bae9c3d9a472e9ec77b9e8cb8bcd0": {
     "model_module": "@jupyter-widgets/base",
     "model_module_version": "1.2.0",
     "model_name": "LayoutModel",
     "state": {
      "_model_module": "@jupyter-widgets/base",
      "_model_module_version": "1.2.0",
      "_model_name": "LayoutModel",
      "_view_count": null,
      "_view_module": "@jupyter-widgets/base",
      "_view_module_version": "1.2.0",
      "_view_name": "LayoutView",
      "align_content": null,
      "align_items": null,
      "align_self": null,
      "border": null,
      "bottom": null,
      "display": null,
      "flex": null,
      "flex_flow": null,
      "grid_area": null,
      "grid_auto_columns": null,
      "grid_auto_flow": null,
      "grid_auto_rows": null,
      "grid_column": null,
      "grid_gap": null,
      "grid_row": null,
      "grid_template_areas": null,
      "grid_template_columns": null,
      "grid_template_rows": null,
      "height": null,
      "justify_content": null,
      "justify_items": null,
      "left": null,
      "margin": null,
      "max_height": null,
      "max_width": null,
      "min_height": null,
      "min_width": null,
      "object_fit": null,
      "object_position": null,
      "order": null,
      "overflow": null,
      "overflow_x": null,
      "overflow_y": null,
      "padding": null,
      "right": null,
      "top": null,
      "visibility": null,
      "width": null
     }
    },
    "9b4c8ab8c758423bb94b12d6830b13aa": {
     "model_module": "@jupyter-widgets/controls",
     "model_module_version": "1.5.0",
     "model_name": "DescriptionStyleModel",
     "state": {
      "_model_module": "@jupyter-widgets/controls",
      "_model_module_version": "1.5.0",
      "_model_name": "DescriptionStyleModel",
      "_view_count": null,
      "_view_module": "@jupyter-widgets/base",
      "_view_module_version": "1.2.0",
      "_view_name": "StyleView",
      "description_width": ""
     }
    },
    "9e2e09c7ce5e492ab90044c0d18d1550": {
     "model_module": "@jupyter-widgets/base",
     "model_module_version": "1.2.0",
     "model_name": "LayoutModel",
     "state": {
      "_model_module": "@jupyter-widgets/base",
      "_model_module_version": "1.2.0",
      "_model_name": "LayoutModel",
      "_view_count": null,
      "_view_module": "@jupyter-widgets/base",
      "_view_module_version": "1.2.0",
      "_view_name": "LayoutView",
      "align_content": null,
      "align_items": null,
      "align_self": null,
      "border": null,
      "bottom": null,
      "display": null,
      "flex": null,
      "flex_flow": null,
      "grid_area": null,
      "grid_auto_columns": null,
      "grid_auto_flow": null,
      "grid_auto_rows": null,
      "grid_column": null,
      "grid_gap": null,
      "grid_row": null,
      "grid_template_areas": null,
      "grid_template_columns": null,
      "grid_template_rows": null,
      "height": null,
      "justify_content": null,
      "justify_items": null,
      "left": null,
      "margin": null,
      "max_height": null,
      "max_width": null,
      "min_height": null,
      "min_width": null,
      "object_fit": null,
      "object_position": null,
      "order": null,
      "overflow": null,
      "overflow_x": null,
      "overflow_y": null,
      "padding": null,
      "right": null,
      "top": null,
      "visibility": null,
      "width": null
     }
    },
    "9e678115032b487ea7496fca877f1e3d": {
     "model_module": "@jupyter-widgets/base",
     "model_module_version": "1.2.0",
     "model_name": "LayoutModel",
     "state": {
      "_model_module": "@jupyter-widgets/base",
      "_model_module_version": "1.2.0",
      "_model_name": "LayoutModel",
      "_view_count": null,
      "_view_module": "@jupyter-widgets/base",
      "_view_module_version": "1.2.0",
      "_view_name": "LayoutView",
      "align_content": null,
      "align_items": null,
      "align_self": null,
      "border": null,
      "bottom": null,
      "display": null,
      "flex": null,
      "flex_flow": null,
      "grid_area": null,
      "grid_auto_columns": null,
      "grid_auto_flow": null,
      "grid_auto_rows": null,
      "grid_column": null,
      "grid_gap": null,
      "grid_row": null,
      "grid_template_areas": null,
      "grid_template_columns": null,
      "grid_template_rows": null,
      "height": null,
      "justify_content": null,
      "justify_items": null,
      "left": null,
      "margin": null,
      "max_height": null,
      "max_width": null,
      "min_height": null,
      "min_width": null,
      "object_fit": null,
      "object_position": null,
      "order": null,
      "overflow": null,
      "overflow_x": null,
      "overflow_y": null,
      "padding": null,
      "right": null,
      "top": null,
      "visibility": null,
      "width": null
     }
    },
    "9fc1a24d83aa4e33a44d4cb38cae64b5": {
     "model_module": "@jupyter-widgets/controls",
     "model_module_version": "1.5.0",
     "model_name": "HTMLModel",
     "state": {
      "_dom_classes": [],
      "_model_module": "@jupyter-widgets/controls",
      "_model_module_version": "1.5.0",
      "_model_name": "HTMLModel",
      "_view_count": null,
      "_view_module": "@jupyter-widgets/controls",
      "_view_module_version": "1.5.0",
      "_view_name": "HTMLView",
      "description": "",
      "description_tooltip": null,
      "layout": "IPY_MODEL_e3748ba7945f4898895c73d84c26a06a",
      "placeholder": "​",
      "style": "IPY_MODEL_5db7c05f160a4743970f657388955efd",
      "value": "tokenizer.json: 100%"
     }
    },
    "a1429e0b2095431bad6a5e65eec8314b": {
     "model_module": "@jupyter-widgets/controls",
     "model_module_version": "1.5.0",
     "model_name": "DescriptionStyleModel",
     "state": {
      "_model_module": "@jupyter-widgets/controls",
      "_model_module_version": "1.5.0",
      "_model_name": "DescriptionStyleModel",
      "_view_count": null,
      "_view_module": "@jupyter-widgets/base",
      "_view_module_version": "1.2.0",
      "_view_name": "StyleView",
      "description_width": ""
     }
    },
    "aa683de3af6d42bfbb2748a5f082b888": {
     "model_module": "@jupyter-widgets/controls",
     "model_module_version": "1.5.0",
     "model_name": "DescriptionStyleModel",
     "state": {
      "_model_module": "@jupyter-widgets/controls",
      "_model_module_version": "1.5.0",
      "_model_name": "DescriptionStyleModel",
      "_view_count": null,
      "_view_module": "@jupyter-widgets/base",
      "_view_module_version": "1.2.0",
      "_view_name": "StyleView",
      "description_width": ""
     }
    },
    "ac8b8cf885d74b358d0e8626ee8f018c": {
     "model_module": "@jupyter-widgets/base",
     "model_module_version": "1.2.0",
     "model_name": "LayoutModel",
     "state": {
      "_model_module": "@jupyter-widgets/base",
      "_model_module_version": "1.2.0",
      "_model_name": "LayoutModel",
      "_view_count": null,
      "_view_module": "@jupyter-widgets/base",
      "_view_module_version": "1.2.0",
      "_view_name": "LayoutView",
      "align_content": null,
      "align_items": null,
      "align_self": null,
      "border": null,
      "bottom": null,
      "display": null,
      "flex": null,
      "flex_flow": null,
      "grid_area": null,
      "grid_auto_columns": null,
      "grid_auto_flow": null,
      "grid_auto_rows": null,
      "grid_column": null,
      "grid_gap": null,
      "grid_row": null,
      "grid_template_areas": null,
      "grid_template_columns": null,
      "grid_template_rows": null,
      "height": null,
      "justify_content": null,
      "justify_items": null,
      "left": null,
      "margin": null,
      "max_height": null,
      "max_width": null,
      "min_height": null,
      "min_width": null,
      "object_fit": null,
      "object_position": null,
      "order": null,
      "overflow": null,
      "overflow_x": null,
      "overflow_y": null,
      "padding": null,
      "right": null,
      "top": null,
      "visibility": null,
      "width": null
     }
    },
    "af4cfa61ecbd4d6695e86d71a7a8deeb": {
     "model_module": "@jupyter-widgets/base",
     "model_module_version": "1.2.0",
     "model_name": "LayoutModel",
     "state": {
      "_model_module": "@jupyter-widgets/base",
      "_model_module_version": "1.2.0",
      "_model_name": "LayoutModel",
      "_view_count": null,
      "_view_module": "@jupyter-widgets/base",
      "_view_module_version": "1.2.0",
      "_view_name": "LayoutView",
      "align_content": null,
      "align_items": null,
      "align_self": null,
      "border": null,
      "bottom": null,
      "display": null,
      "flex": null,
      "flex_flow": null,
      "grid_area": null,
      "grid_auto_columns": null,
      "grid_auto_flow": null,
      "grid_auto_rows": null,
      "grid_column": null,
      "grid_gap": null,
      "grid_row": null,
      "grid_template_areas": null,
      "grid_template_columns": null,
      "grid_template_rows": null,
      "height": null,
      "justify_content": null,
      "justify_items": null,
      "left": null,
      "margin": null,
      "max_height": null,
      "max_width": null,
      "min_height": null,
      "min_width": null,
      "object_fit": null,
      "object_position": null,
      "order": null,
      "overflow": null,
      "overflow_x": null,
      "overflow_y": null,
      "padding": null,
      "right": null,
      "top": null,
      "visibility": null,
      "width": null
     }
    },
    "b26c1a566b3c41748e1bf772ee6244ec": {
     "model_module": "@jupyter-widgets/controls",
     "model_module_version": "1.5.0",
     "model_name": "HTMLModel",
     "state": {
      "_dom_classes": [],
      "_model_module": "@jupyter-widgets/controls",
      "_model_module_version": "1.5.0",
      "_model_name": "HTMLModel",
      "_view_count": null,
      "_view_module": "@jupyter-widgets/controls",
      "_view_module_version": "1.5.0",
      "_view_name": "HTMLView",
      "description": "",
      "description_tooltip": null,
      "layout": "IPY_MODEL_9801ec7b025b496bbbab2a02d157cf28",
      "placeholder": "​",
      "style": "IPY_MODEL_0c3898640ded4f4b8ed2ecf5a5dde962",
      "value": " 48.0/48.0 [00:00&lt;00:00, 1.31kB/s]"
     }
    },
    "bebf8adb66344ee384ffdea5ab927b81": {
     "model_module": "@jupyter-widgets/controls",
     "model_module_version": "1.5.0",
     "model_name": "DescriptionStyleModel",
     "state": {
      "_model_module": "@jupyter-widgets/controls",
      "_model_module_version": "1.5.0",
      "_model_name": "DescriptionStyleModel",
      "_view_count": null,
      "_view_module": "@jupyter-widgets/base",
      "_view_module_version": "1.2.0",
      "_view_name": "StyleView",
      "description_width": ""
     }
    },
    "c011034ff39a4600aefa6833c6607cf1": {
     "model_module": "@jupyter-widgets/controls",
     "model_module_version": "1.5.0",
     "model_name": "FloatProgressModel",
     "state": {
      "_dom_classes": [],
      "_model_module": "@jupyter-widgets/controls",
      "_model_module_version": "1.5.0",
      "_model_name": "FloatProgressModel",
      "_view_count": null,
      "_view_module": "@jupyter-widgets/controls",
      "_view_module_version": "1.5.0",
      "_view_name": "ProgressView",
      "bar_style": "success",
      "description": "",
      "description_tooltip": null,
      "layout": "IPY_MODEL_df831c89b3594a85877de350caa5cb2d",
      "max": 5000,
      "min": 0,
      "orientation": "horizontal",
      "style": "IPY_MODEL_857a0b01373a4f38a2712c6331504619",
      "value": 5000
     }
    },
    "c29f455a587d4a0887e4bdd7154a5687": {
     "model_module": "@jupyter-widgets/controls",
     "model_module_version": "1.5.0",
     "model_name": "HTMLModel",
     "state": {
      "_dom_classes": [],
      "_model_module": "@jupyter-widgets/controls",
      "_model_module_version": "1.5.0",
      "_model_name": "HTMLModel",
      "_view_count": null,
      "_view_module": "@jupyter-widgets/controls",
      "_view_module_version": "1.5.0",
      "_view_name": "HTMLView",
      "description": "",
      "description_tooltip": null,
      "layout": "IPY_MODEL_1566b777574b49139d8e6e8662516a0e",
      "placeholder": "​",
      "style": "IPY_MODEL_a1429e0b2095431bad6a5e65eec8314b",
      "value": "config.json: 100%"
     }
    },
    "c3039da886594d569e745b0f7b59d4fa": {
     "model_module": "@jupyter-widgets/controls",
     "model_module_version": "1.5.0",
     "model_name": "DescriptionStyleModel",
     "state": {
      "_model_module": "@jupyter-widgets/controls",
      "_model_module_version": "1.5.0",
      "_model_name": "DescriptionStyleModel",
      "_view_count": null,
      "_view_module": "@jupyter-widgets/base",
      "_view_module_version": "1.2.0",
      "_view_name": "StyleView",
      "description_width": ""
     }
    },
    "c3e821051b7c491f82f3c9c628d9fff1": {
     "model_module": "@jupyter-widgets/base",
     "model_module_version": "1.2.0",
     "model_name": "LayoutModel",
     "state": {
      "_model_module": "@jupyter-widgets/base",
      "_model_module_version": "1.2.0",
      "_model_name": "LayoutModel",
      "_view_count": null,
      "_view_module": "@jupyter-widgets/base",
      "_view_module_version": "1.2.0",
      "_view_name": "LayoutView",
      "align_content": null,
      "align_items": null,
      "align_self": null,
      "border": null,
      "bottom": null,
      "display": null,
      "flex": null,
      "flex_flow": null,
      "grid_area": null,
      "grid_auto_columns": null,
      "grid_auto_flow": null,
      "grid_auto_rows": null,
      "grid_column": null,
      "grid_gap": null,
      "grid_row": null,
      "grid_template_areas": null,
      "grid_template_columns": null,
      "grid_template_rows": null,
      "height": null,
      "justify_content": null,
      "justify_items": null,
      "left": null,
      "margin": null,
      "max_height": null,
      "max_width": null,
      "min_height": null,
      "min_width": null,
      "object_fit": null,
      "object_position": null,
      "order": null,
      "overflow": null,
      "overflow_x": null,
      "overflow_y": null,
      "padding": null,
      "right": null,
      "top": null,
      "visibility": null,
      "width": null
     }
    },
    "c74bce80495e41c382425436b50c09c0": {
     "model_module": "@jupyter-widgets/base",
     "model_module_version": "1.2.0",
     "model_name": "LayoutModel",
     "state": {
      "_model_module": "@jupyter-widgets/base",
      "_model_module_version": "1.2.0",
      "_model_name": "LayoutModel",
      "_view_count": null,
      "_view_module": "@jupyter-widgets/base",
      "_view_module_version": "1.2.0",
      "_view_name": "LayoutView",
      "align_content": null,
      "align_items": null,
      "align_self": null,
      "border": null,
      "bottom": null,
      "display": null,
      "flex": null,
      "flex_flow": null,
      "grid_area": null,
      "grid_auto_columns": null,
      "grid_auto_flow": null,
      "grid_auto_rows": null,
      "grid_column": null,
      "grid_gap": null,
      "grid_row": null,
      "grid_template_areas": null,
      "grid_template_columns": null,
      "grid_template_rows": null,
      "height": null,
      "justify_content": null,
      "justify_items": null,
      "left": null,
      "margin": null,
      "max_height": null,
      "max_width": null,
      "min_height": null,
      "min_width": null,
      "object_fit": null,
      "object_position": null,
      "order": null,
      "overflow": null,
      "overflow_x": null,
      "overflow_y": null,
      "padding": null,
      "right": null,
      "top": null,
      "visibility": null,
      "width": null
     }
    },
    "c831fca47dcc4fc6aae1a133b8f43265": {
     "model_module": "@jupyter-widgets/controls",
     "model_module_version": "1.5.0",
     "model_name": "HTMLModel",
     "state": {
      "_dom_classes": [],
      "_model_module": "@jupyter-widgets/controls",
      "_model_module_version": "1.5.0",
      "_model_name": "HTMLModel",
      "_view_count": null,
      "_view_module": "@jupyter-widgets/controls",
      "_view_module_version": "1.5.0",
      "_view_name": "HTMLView",
      "description": "",
      "description_tooltip": null,
      "layout": "IPY_MODEL_557ba0a74fb84b41b4ff9e2a929a3170",
      "placeholder": "​",
      "style": "IPY_MODEL_1c59a25446c54a16add1b9b6f5aaf0fe",
      "value": "Map: 100%"
     }
    },
    "ca3bda0d2e8b47c78f207903f357c6fd": {
     "model_module": "@jupyter-widgets/base",
     "model_module_version": "1.2.0",
     "model_name": "LayoutModel",
     "state": {
      "_model_module": "@jupyter-widgets/base",
      "_model_module_version": "1.2.0",
      "_model_name": "LayoutModel",
      "_view_count": null,
      "_view_module": "@jupyter-widgets/base",
      "_view_module_version": "1.2.0",
      "_view_name": "LayoutView",
      "align_content": null,
      "align_items": null,
      "align_self": null,
      "border": null,
      "bottom": null,
      "display": null,
      "flex": null,
      "flex_flow": null,
      "grid_area": null,
      "grid_auto_columns": null,
      "grid_auto_flow": null,
      "grid_auto_rows": null,
      "grid_column": null,
      "grid_gap": null,
      "grid_row": null,
      "grid_template_areas": null,
      "grid_template_columns": null,
      "grid_template_rows": null,
      "height": null,
      "justify_content": null,
      "justify_items": null,
      "left": null,
      "margin": null,
      "max_height": null,
      "max_width": null,
      "min_height": null,
      "min_width": null,
      "object_fit": null,
      "object_position": null,
      "order": null,
      "overflow": null,
      "overflow_x": null,
      "overflow_y": null,
      "padding": null,
      "right": null,
      "top": null,
      "visibility": null,
      "width": null
     }
    },
    "d6b86b15ea6f470f942c9842f9e4f78d": {
     "model_module": "@jupyter-widgets/base",
     "model_module_version": "1.2.0",
     "model_name": "LayoutModel",
     "state": {
      "_model_module": "@jupyter-widgets/base",
      "_model_module_version": "1.2.0",
      "_model_name": "LayoutModel",
      "_view_count": null,
      "_view_module": "@jupyter-widgets/base",
      "_view_module_version": "1.2.0",
      "_view_name": "LayoutView",
      "align_content": null,
      "align_items": null,
      "align_self": null,
      "border": null,
      "bottom": null,
      "display": null,
      "flex": null,
      "flex_flow": null,
      "grid_area": null,
      "grid_auto_columns": null,
      "grid_auto_flow": null,
      "grid_auto_rows": null,
      "grid_column": null,
      "grid_gap": null,
      "grid_row": null,
      "grid_template_areas": null,
      "grid_template_columns": null,
      "grid_template_rows": null,
      "height": null,
      "justify_content": null,
      "justify_items": null,
      "left": null,
      "margin": null,
      "max_height": null,
      "max_width": null,
      "min_height": null,
      "min_width": null,
      "object_fit": null,
      "object_position": null,
      "order": null,
      "overflow": null,
      "overflow_x": null,
      "overflow_y": null,
      "padding": null,
      "right": null,
      "top": null,
      "visibility": null,
      "width": null
     }
    },
    "d95ee9b766284269931f429462b11f76": {
     "model_module": "@jupyter-widgets/base",
     "model_module_version": "1.2.0",
     "model_name": "LayoutModel",
     "state": {
      "_model_module": "@jupyter-widgets/base",
      "_model_module_version": "1.2.0",
      "_model_name": "LayoutModel",
      "_view_count": null,
      "_view_module": "@jupyter-widgets/base",
      "_view_module_version": "1.2.0",
      "_view_name": "LayoutView",
      "align_content": null,
      "align_items": null,
      "align_self": null,
      "border": null,
      "bottom": null,
      "display": null,
      "flex": null,
      "flex_flow": null,
      "grid_area": null,
      "grid_auto_columns": null,
      "grid_auto_flow": null,
      "grid_auto_rows": null,
      "grid_column": null,
      "grid_gap": null,
      "grid_row": null,
      "grid_template_areas": null,
      "grid_template_columns": null,
      "grid_template_rows": null,
      "height": null,
      "justify_content": null,
      "justify_items": null,
      "left": null,
      "margin": null,
      "max_height": null,
      "max_width": null,
      "min_height": null,
      "min_width": null,
      "object_fit": null,
      "object_position": null,
      "order": null,
      "overflow": null,
      "overflow_x": null,
      "overflow_y": null,
      "padding": null,
      "right": null,
      "top": null,
      "visibility": null,
      "width": null
     }
    },
    "dd08ca79f4e242ff8c9aaa0a12b5fb02": {
     "model_module": "@jupyter-widgets/controls",
     "model_module_version": "1.5.0",
     "model_name": "HTMLModel",
     "state": {
      "_dom_classes": [],
      "_model_module": "@jupyter-widgets/controls",
      "_model_module_version": "1.5.0",
      "_model_name": "HTMLModel",
      "_view_count": null,
      "_view_module": "@jupyter-widgets/controls",
      "_view_module_version": "1.5.0",
      "_view_name": "HTMLView",
      "description": "",
      "description_tooltip": null,
      "layout": "IPY_MODEL_995ecc602fd545d4946d32c6b9dd1bd0",
      "placeholder": "​",
      "style": "IPY_MODEL_06e8b0054814460dbe2dc231d285785c",
      "value": "vocab.txt: 100%"
     }
    },
    "df831c89b3594a85877de350caa5cb2d": {
     "model_module": "@jupyter-widgets/base",
     "model_module_version": "1.2.0",
     "model_name": "LayoutModel",
     "state": {
      "_model_module": "@jupyter-widgets/base",
      "_model_module_version": "1.2.0",
      "_model_name": "LayoutModel",
      "_view_count": null,
      "_view_module": "@jupyter-widgets/base",
      "_view_module_version": "1.2.0",
      "_view_name": "LayoutView",
      "align_content": null,
      "align_items": null,
      "align_self": null,
      "border": null,
      "bottom": null,
      "display": null,
      "flex": null,
      "flex_flow": null,
      "grid_area": null,
      "grid_auto_columns": null,
      "grid_auto_flow": null,
      "grid_auto_rows": null,
      "grid_column": null,
      "grid_gap": null,
      "grid_row": null,
      "grid_template_areas": null,
      "grid_template_columns": null,
      "grid_template_rows": null,
      "height": null,
      "justify_content": null,
      "justify_items": null,
      "left": null,
      "margin": null,
      "max_height": null,
      "max_width": null,
      "min_height": null,
      "min_width": null,
      "object_fit": null,
      "object_position": null,
      "order": null,
      "overflow": null,
      "overflow_x": null,
      "overflow_y": null,
      "padding": null,
      "right": null,
      "top": null,
      "visibility": null,
      "width": null
     }
    },
    "e23c87d8a9034e54bd39f2d61957d400": {
     "model_module": "@jupyter-widgets/base",
     "model_module_version": "1.2.0",
     "model_name": "LayoutModel",
     "state": {
      "_model_module": "@jupyter-widgets/base",
      "_model_module_version": "1.2.0",
      "_model_name": "LayoutModel",
      "_view_count": null,
      "_view_module": "@jupyter-widgets/base",
      "_view_module_version": "1.2.0",
      "_view_name": "LayoutView",
      "align_content": null,
      "align_items": null,
      "align_self": null,
      "border": null,
      "bottom": null,
      "display": null,
      "flex": null,
      "flex_flow": null,
      "grid_area": null,
      "grid_auto_columns": null,
      "grid_auto_flow": null,
      "grid_auto_rows": null,
      "grid_column": null,
      "grid_gap": null,
      "grid_row": null,
      "grid_template_areas": null,
      "grid_template_columns": null,
      "grid_template_rows": null,
      "height": null,
      "justify_content": null,
      "justify_items": null,
      "left": null,
      "margin": null,
      "max_height": null,
      "max_width": null,
      "min_height": null,
      "min_width": null,
      "object_fit": null,
      "object_position": null,
      "order": null,
      "overflow": null,
      "overflow_x": null,
      "overflow_y": null,
      "padding": null,
      "right": null,
      "top": null,
      "visibility": null,
      "width": null
     }
    },
    "e3748ba7945f4898895c73d84c26a06a": {
     "model_module": "@jupyter-widgets/base",
     "model_module_version": "1.2.0",
     "model_name": "LayoutModel",
     "state": {
      "_model_module": "@jupyter-widgets/base",
      "_model_module_version": "1.2.0",
      "_model_name": "LayoutModel",
      "_view_count": null,
      "_view_module": "@jupyter-widgets/base",
      "_view_module_version": "1.2.0",
      "_view_name": "LayoutView",
      "align_content": null,
      "align_items": null,
      "align_self": null,
      "border": null,
      "bottom": null,
      "display": null,
      "flex": null,
      "flex_flow": null,
      "grid_area": null,
      "grid_auto_columns": null,
      "grid_auto_flow": null,
      "grid_auto_rows": null,
      "grid_column": null,
      "grid_gap": null,
      "grid_row": null,
      "grid_template_areas": null,
      "grid_template_columns": null,
      "grid_template_rows": null,
      "height": null,
      "justify_content": null,
      "justify_items": null,
      "left": null,
      "margin": null,
      "max_height": null,
      "max_width": null,
      "min_height": null,
      "min_width": null,
      "object_fit": null,
      "object_position": null,
      "order": null,
      "overflow": null,
      "overflow_x": null,
      "overflow_y": null,
      "padding": null,
      "right": null,
      "top": null,
      "visibility": null,
      "width": null
     }
    },
    "e7309a71c3c24720a032f2b73ae09125": {
     "model_module": "@jupyter-widgets/base",
     "model_module_version": "1.2.0",
     "model_name": "LayoutModel",
     "state": {
      "_model_module": "@jupyter-widgets/base",
      "_model_module_version": "1.2.0",
      "_model_name": "LayoutModel",
      "_view_count": null,
      "_view_module": "@jupyter-widgets/base",
      "_view_module_version": "1.2.0",
      "_view_name": "LayoutView",
      "align_content": null,
      "align_items": null,
      "align_self": null,
      "border": null,
      "bottom": null,
      "display": null,
      "flex": null,
      "flex_flow": null,
      "grid_area": null,
      "grid_auto_columns": null,
      "grid_auto_flow": null,
      "grid_auto_rows": null,
      "grid_column": null,
      "grid_gap": null,
      "grid_row": null,
      "grid_template_areas": null,
      "grid_template_columns": null,
      "grid_template_rows": null,
      "height": null,
      "justify_content": null,
      "justify_items": null,
      "left": null,
      "margin": null,
      "max_height": null,
      "max_width": null,
      "min_height": null,
      "min_width": null,
      "object_fit": null,
      "object_position": null,
      "order": null,
      "overflow": null,
      "overflow_x": null,
      "overflow_y": null,
      "padding": null,
      "right": null,
      "top": null,
      "visibility": null,
      "width": null
     }
    },
    "f581e45cec0349bd93769e8fa731b81b": {
     "model_module": "@jupyter-widgets/controls",
     "model_module_version": "1.5.0",
     "model_name": "DescriptionStyleModel",
     "state": {
      "_model_module": "@jupyter-widgets/controls",
      "_model_module_version": "1.5.0",
      "_model_name": "DescriptionStyleModel",
      "_view_count": null,
      "_view_module": "@jupyter-widgets/base",
      "_view_module_version": "1.2.0",
      "_view_name": "StyleView",
      "description_width": ""
     }
    },
    "f604ff1b45664108b4d8ef3be67f2aec": {
     "model_module": "@jupyter-widgets/controls",
     "model_module_version": "1.5.0",
     "model_name": "HBoxModel",
     "state": {
      "_dom_classes": [],
      "_model_module": "@jupyter-widgets/controls",
      "_model_module_version": "1.5.0",
      "_model_name": "HBoxModel",
      "_view_count": null,
      "_view_module": "@jupyter-widgets/controls",
      "_view_module_version": "1.5.0",
      "_view_name": "HBoxView",
      "box_style": "",
      "children": [
       "IPY_MODEL_424e74af8a7346dc9986e0ce4471cff0",
       "IPY_MODEL_13d0a1d98261466dbd00b93ed6c248a4",
       "IPY_MODEL_fea17853f0684af396d6cec558811a50"
      ],
      "layout": "IPY_MODEL_65355c76a6a44d36925328569b56f844"
     }
    },
    "fe8bd8b7642d471082212a79fcc344f2": {
     "model_module": "@jupyter-widgets/base",
     "model_module_version": "1.2.0",
     "model_name": "LayoutModel",
     "state": {
      "_model_module": "@jupyter-widgets/base",
      "_model_module_version": "1.2.0",
      "_model_name": "LayoutModel",
      "_view_count": null,
      "_view_module": "@jupyter-widgets/base",
      "_view_module_version": "1.2.0",
      "_view_name": "LayoutView",
      "align_content": null,
      "align_items": null,
      "align_self": null,
      "border": null,
      "bottom": null,
      "display": null,
      "flex": null,
      "flex_flow": null,
      "grid_area": null,
      "grid_auto_columns": null,
      "grid_auto_flow": null,
      "grid_auto_rows": null,
      "grid_column": null,
      "grid_gap": null,
      "grid_row": null,
      "grid_template_areas": null,
      "grid_template_columns": null,
      "grid_template_rows": null,
      "height": null,
      "justify_content": null,
      "justify_items": null,
      "left": null,
      "margin": null,
      "max_height": null,
      "max_width": null,
      "min_height": null,
      "min_width": null,
      "object_fit": null,
      "object_position": null,
      "order": null,
      "overflow": null,
      "overflow_x": null,
      "overflow_y": null,
      "padding": null,
      "right": null,
      "top": null,
      "visibility": null,
      "width": null
     }
    },
    "fea17853f0684af396d6cec558811a50": {
     "model_module": "@jupyter-widgets/controls",
     "model_module_version": "1.5.0",
     "model_name": "HTMLModel",
     "state": {
      "_dom_classes": [],
      "_model_module": "@jupyter-widgets/controls",
      "_model_module_version": "1.5.0",
      "_model_name": "HTMLModel",
      "_view_count": null,
      "_view_module": "@jupyter-widgets/controls",
      "_view_module_version": "1.5.0",
      "_view_name": "HTMLView",
      "description": "",
      "description_tooltip": null,
      "layout": "IPY_MODEL_127d1e99aca94a54a3b798640ed9e493",
      "placeholder": "​",
      "style": "IPY_MODEL_8fda65cc8a974bfca11c5616ea17be5c",
      "value": " 66.2M/66.2M [00:00&lt;00:00, 86.2MB/s]"
     }
    }
   }
  }
 },
 "nbformat": 4,
 "nbformat_minor": 0
}
